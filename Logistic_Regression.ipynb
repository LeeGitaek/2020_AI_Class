{
  "nbformat": 4,
  "nbformat_minor": 0,
  "metadata": {
    "colab": {
      "name": "ai_class2.ipynb",
      "provenance": [],
      "authorship_tag": "ABX9TyPzJrAcADjCQGeZwIgM+NO5",
      "include_colab_link": true
    },
    "kernelspec": {
      "name": "python3",
      "display_name": "Python 3"
    }
  },
  "cells": [
    {
      "cell_type": "markdown",
      "metadata": {
        "id": "view-in-github",
        "colab_type": "text"
      },
      "source": [
        "<a href=\"https://colab.research.google.com/github/LeeGitaek/2020_AI_Class/blob/master/Logistic_Regression.ipynb\" target=\"_parent\"><img src=\"https://colab.research.google.com/assets/colab-badge.svg\" alt=\"Open In Colab\"/></a>"
      ]
    },
    {
      "cell_type": "markdown",
      "metadata": {
        "id": "nqDA1f45REHf",
        "colab_type": "text"
      },
      "source": [
        "Logistic Regression\n",
        "\n",
        "H(x) = sigmoid \n",
        "\n",
        "cost(w) = cross - entropy\n",
        "\n",
        "weight update via Gradient Descent\n",
        "\n",
        "데이터 로드 - > 모델 학습 -> 데이터평가 / 결과 예측 "
      ]
    },
    {
      "cell_type": "code",
      "metadata": {
        "id": "9NdhFZEhQuGf",
        "colab_type": "code",
        "colab": {
          "base_uri": "https://localhost:8080/",
          "height": 170
        },
        "outputId": "1b9b392f-2c58-4889-979b-8af7352ca01c"
      },
      "source": [
        "import torch \n",
        "#최적화 알고리즘 : SGD\n",
        "import torch.optim as optim;\n",
        "# for reproducibility\n",
        "torch.manual_seed(1);\n",
        "\n",
        "x_data = [[1,2],[2,3],[3,1],[4,3],[5,3],[6,2]]\n",
        "y_data = [[0],[0],[0],[1],[1],[1]]\n",
        "\n",
        "x_train = torch.FloatTensor(x_data)\n",
        "y_train = torch.FloatTensor(y_data)\n",
        "\n",
        "print(x_data)\n",
        "print(x_train)\n",
        "\n",
        "print(x_train.shape)\n",
        "print(y_train.shape)\n",
        "\n",
        "\n"
      ],
      "execution_count": 1,
      "outputs": [
        {
          "output_type": "stream",
          "text": [
            "[[1, 2], [2, 3], [3, 1], [4, 3], [5, 3], [6, 2]]\n",
            "tensor([[1., 2.],\n",
            "        [2., 3.],\n",
            "        [3., 1.],\n",
            "        [4., 3.],\n",
            "        [5., 3.],\n",
            "        [6., 2.]])\n",
            "torch.Size([6, 2])\n",
            "torch.Size([6, 1])\n"
          ],
          "name": "stdout"
        }
      ]
    },
    {
      "cell_type": "markdown",
      "metadata": {
        "id": "D4JFZkm7W1xL",
        "colab_type": "text"
      },
      "source": [
        "모델 학습\n"
      ]
    },
    {
      "cell_type": "code",
      "metadata": {
        "id": "UqnLMXpmUQhR",
        "colab_type": "code",
        "colab": {
          "base_uri": "https://localhost:8080/",
          "height": 204
        },
        "outputId": "759cc543-4df7-49f6-c84e-f324b5b67f72"
      },
      "source": [
        "w = torch.zeros((2,1),requires_grad=True)\n",
        "b = torch.zeros(1,requires_grad=True)\n",
        "\n",
        "optimizer = optim.SGD([w,b],lr=1)\n",
        "\n",
        "nb_epochs = 1000\n",
        "for epoch in range(nb_epochs+1):\n",
        "    hypothesis = torch.sigmoid(x_train.matmul(w)+b)\n",
        "\n",
        "    cost = -(y_train * torch.log(hypothesis) + (1-y_train) * torch.log(1-hypothesis)).mean()\n",
        "\n",
        "    optimizer.zero_grad()\n",
        "    cost.backward()\n",
        "    optimizer.step()\n",
        "\n",
        "    if epoch % 100 == 0:\n",
        "        print('epoch {:4d} / {} cost : {:.6f}'.format(\n",
        "            epoch,nb_epochs,cost.item()\n",
        "        ))"
      ],
      "execution_count": 4,
      "outputs": [
        {
          "output_type": "stream",
          "text": [
            "epoch    0 / 1000 cost : 0.693147\n",
            "epoch  100 / 1000 cost : 0.134722\n",
            "epoch  200 / 1000 cost : 0.080643\n",
            "epoch  300 / 1000 cost : 0.057900\n",
            "epoch  400 / 1000 cost : 0.045300\n",
            "epoch  500 / 1000 cost : 0.037261\n",
            "epoch  600 / 1000 cost : 0.031673\n",
            "epoch  700 / 1000 cost : 0.027556\n",
            "epoch  800 / 1000 cost : 0.024394\n",
            "epoch  900 / 1000 cost : 0.021888\n",
            "epoch 1000 / 1000 cost : 0.019852\n"
          ],
          "name": "stdout"
        }
      ]
    },
    {
      "cell_type": "markdown",
      "metadata": {
        "id": "tSpIXjUEVlCE",
        "colab_type": "text"
      },
      "source": [
        "데이터 평가 \n"
      ]
    },
    {
      "cell_type": "code",
      "metadata": {
        "id": "L07dYQUsVRqJ",
        "colab_type": "code",
        "colab": {
          "base_uri": "https://localhost:8080/",
          "height": 119
        },
        "outputId": "56bc2070-049e-48d4-d47e-1af02d34d8cb"
      },
      "source": [
        "hypothesis = torch.sigmoid(x_train.matmul(w)+b)\n",
        "#print(hypothesis[:5])\n",
        "\n",
        "prediction = hypothesis  >= torch.FloatTensor([0.5])\n",
        "#print(prediction[:5])\n",
        "\n",
        "#print(y_train[:5])\n",
        "\n",
        "correct_prediction = prediction.float() == y_train\n",
        "print(correct_prediction[:5])\n",
        "\n",
        "accuracy = correct_prediction.sum().item() / len(correct_prediction)\n",
        "print('the model has an accuracy of {:2.2f}% for the training set.'.format(accuracy*100))\n"
      ],
      "execution_count": 6,
      "outputs": [
        {
          "output_type": "stream",
          "text": [
            "tensor([[True],\n",
            "        [True],\n",
            "        [True],\n",
            "        [True],\n",
            "        [True]])\n",
            "the model has an accuracy of 100.00% for the training set.\n"
          ],
          "name": "stdout"
        }
      ]
    },
    {
      "cell_type": "code",
      "metadata": {
        "id": "bgcOz3EMW5zn",
        "colab_type": "code",
        "colab": {
          "base_uri": "https://localhost:8080/",
          "height": 34
        },
        "outputId": "66529742-7f93-4a24-9305-5e8a95626c66"
      },
      "source": [
        "xx = [100,5]\n",
        "xx = torch.FloatTensor(xx)\n",
        "hypothesis = torch.sigmoid(xx.matmul(w)+b)\n",
        "prediction = hypothesis >= torch.FloatTensor([0.5])\n",
        "print(prediction)"
      ],
      "execution_count": 7,
      "outputs": [
        {
          "output_type": "stream",
          "text": [
            "tensor([True])\n"
          ],
          "name": "stdout"
        }
      ]
    }
  ]
}