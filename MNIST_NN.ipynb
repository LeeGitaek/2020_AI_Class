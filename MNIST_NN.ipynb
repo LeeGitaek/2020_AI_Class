{
  "nbformat": 4,
  "nbformat_minor": 0,
  "metadata": {
    "colab": {
      "name": "MNIST_NN.ipynb",
      "provenance": [],
      "collapsed_sections": [],
      "authorship_tag": "ABX9TyNWIjKqZxrx/04hz0w5TqnN",
      "include_colab_link": true
    },
    "kernelspec": {
      "name": "python3",
      "display_name": "Python 3"
    },
    "accelerator": "GPU"
  },
  "cells": [
    {
      "cell_type": "markdown",
      "metadata": {
        "id": "view-in-github",
        "colab_type": "text"
      },
      "source": [
        "<a href=\"https://colab.research.google.com/github/LeeGitaek/2020_AI_Class/blob/master/MNIST_NN.ipynb\" target=\"_parent\"><img src=\"https://colab.research.google.com/assets/colab-badge.svg\" alt=\"Open In Colab\"/></a>"
      ]
    },
    {
      "cell_type": "code",
      "metadata": {
        "id": "7XkF9znHcWQN",
        "colab_type": "code",
        "colab": {}
      },
      "source": [
        "import torch\n",
        "import torchvision.datasets as data \n",
        "import torchvision.transforms as transforms\n",
        "import random "
      ],
      "execution_count": 0,
      "outputs": []
    },
    {
      "cell_type": "code",
      "metadata": {
        "id": "DGzSYtBWcik5",
        "colab_type": "code",
        "colab": {}
      },
      "source": [
        "device = 'cuda' if torch.cuda.is_available() else 'cpu'\n",
        "random.seed(777)\n",
        "#난수생성 규칙 설정 seed\n",
        "torch.manual_seed(777)\n",
        "if device == 'cuda':\n",
        "    torch.cuda.manual_seed_all(777)"
      ],
      "execution_count": 0,
      "outputs": []
    },
    {
      "cell_type": "code",
      "metadata": {
        "id": "tD-o1R8edAYa",
        "colab_type": "code",
        "colab": {}
      },
      "source": [
        "#학습 파라미터 설정\n",
        "# tpu = 구글에서 만든 gpu\n",
        "\n",
        "learning_rate = 0.001\n",
        "training_epochs = 15\n",
        "batch_size = 100\n",
        "#모의 문제 해결 수 "
      ],
      "execution_count": 0,
      "outputs": []
    },
    {
      "cell_type": "code",
      "metadata": {
        "id": "Ql8pBVZEdW3E",
        "colab_type": "code",
        "colab": {}
      },
      "source": [
        "mnist_train = data.MNIST(root = 'MNIST_data/',\n",
        "                         train=True,\n",
        "                         transform = transforms.ToTensor(),\n",
        "                         download = True)\n",
        "# root 값은 어디에 저장할 것인가 \n",
        "\n",
        "\n",
        "mnist_test = data.MNIST(root='MNIST_data/',\n",
        "                        train=False,\n",
        "                        transform = transforms.ToTensor(),\n",
        "                        download=True)"
      ],
      "execution_count": 0,
      "outputs": []
    },
    {
      "cell_type": "code",
      "metadata": {
        "id": "9MlUillheUQE",
        "colab_type": "code",
        "colab": {}
      },
      "source": [
        "data_loader = torch.utils.data.DataLoader(dataset = mnist_train,\n",
        "                                          batch_size = batch_size,\n",
        "                                          shuffle=True,\n",
        "                                          drop_last = True)\n",
        "#shuffle = 데이터 섞어줌\n",
        "#"
      ],
      "execution_count": 0,
      "outputs": []
    },
    {
      "cell_type": "code",
      "metadata": {
        "id": "DeKC5kp5fboz",
        "colab_type": "code",
        "colab": {}
      },
      "source": [
        "linear1 = torch.nn.Linear(784,256,bias=True)\n",
        "linear2 = torch.nn.Linear(256,256,bias=True)\n",
        "linear3 = torch.nn.Linear(256,10,bias=True)\n",
        "relu = torch.nn.ReLU()\n",
        "#레이어를 3개 쌓는다. \n",
        "# ( nn + relu ) *3"
      ],
      "execution_count": 0,
      "outputs": []
    },
    {
      "cell_type": "code",
      "metadata": {
        "id": "45e5bP1rflsV",
        "colab_type": "code",
        "colab": {
          "base_uri": "https://localhost:8080/",
          "height": 170
        },
        "outputId": "b3f34a13-8303-4f30-c6a6-7b6d2ecae9c8"
      },
      "source": [
        "torch.nn.init.normal_(linear1.weight)\n",
        "torch.nn.init.normal_(linear2.weight)\n",
        "torch.nn.init.normal_(linear3.weight) "
      ],
      "execution_count": 36,
      "outputs": [
        {
          "output_type": "execute_result",
          "data": {
            "text/plain": [
              "Parameter containing:\n",
              "tensor([[-0.6645,  0.6646,  0.7159,  ..., -0.3040, -0.8945, -0.7977],\n",
              "        [-1.2045,  2.4545, -1.8073,  ..., -1.7139, -0.0451,  0.3864],\n",
              "        [ 0.3414,  0.3114, -1.9218,  ..., -0.4525, -0.6849,  0.9663],\n",
              "        ...,\n",
              "        [ 1.3915, -0.4048,  0.2338,  ..., -0.8257, -0.8397,  1.9816],\n",
              "        [ 1.0414,  0.2130, -0.0417,  ...,  1.7541, -0.6454, -0.0821],\n",
              "        [-0.1162, -1.2692,  0.8201,  ..., -0.8303, -0.5022,  0.0583]],\n",
              "       requires_grad=True)"
            ]
          },
          "metadata": {
            "tags": []
          },
          "execution_count": 36
        }
      ]
    },
    {
      "cell_type": "code",
      "metadata": {
        "id": "eP0MQ1aFgCum",
        "colab_type": "code",
        "colab": {}
      },
      "source": [
        "model = torch.nn.Sequential(linear1,relu,linear2,relu,linear3).to(device)\n",
        "#맨 마지막 레이어에서는 relu는 빼준다."
      ],
      "execution_count": 0,
      "outputs": []
    },
    {
      "cell_type": "code",
      "metadata": {
        "id": "ccSI0IoygPAQ",
        "colab_type": "code",
        "colab": {}
      },
      "source": [
        "#손실함수와 최적화 함수 \n",
        "loss = torch.nn.CrossEntropyLoss().to(device) # 소프트맥스 내부적으로 계산 \n",
        "optimizer = torch.optim.Adam(model.parameters(),lr=learning_rate) "
      ],
      "execution_count": 0,
      "outputs": []
    },
    {
      "cell_type": "code",
      "metadata": {
        "id": "3wi_QG5Dgjhg",
        "colab_type": "code",
        "colab": {
          "base_uri": "https://localhost:8080/",
          "height": 289
        },
        "outputId": "469de0d5-1b7e-4b43-9290-bbb20b6d16d4"
      },
      "source": [
        "total_batch = len(data_loader)\n",
        "for epoch in range(training_epochs):\n",
        "    avg_cost = 0\n",
        "\n",
        "    for X,Y in data_loader:\n",
        "      # (100,1,28,28) 크기의 텐서를 (100,784) 크기의 텐서로 변형 \n",
        "       X = X.view(-1,28*28).to(device) #reshape과 유사\n",
        "       # one - hot 인코딩 되어있지 않음 \n",
        "       Y = Y.to(device)\n",
        "\n",
        "       # 그레디언트 초기화\n",
        "       optimizer.zero_grad()\n",
        "       hypothesis = model(X)\n",
        "\n",
        "       cost = loss(hypothesis,Y) \n",
        "       cost.backward()\n",
        "       optimizer.step()\n",
        "\n",
        "       avg_cost += cost/total_batch\n",
        "    print('Epoch :','%04d' % (epoch+1),'cost=','{:.9f}'.format(avg_cost))\n",
        "print('Learning finished..!')      "
      ],
      "execution_count": 39,
      "outputs": [
        {
          "output_type": "stream",
          "text": [
            "Epoch : 0001 cost= 129.354400635\n",
            "Epoch : 0002 cost= 36.216625214\n",
            "Epoch : 0003 cost= 23.102458954\n",
            "Epoch : 0004 cost= 16.053781509\n",
            "Epoch : 0005 cost= 11.673536301\n",
            "Epoch : 0006 cost= 8.583076477\n",
            "Epoch : 0007 cost= 6.432810783\n",
            "Epoch : 0008 cost= 4.828622818\n",
            "Epoch : 0009 cost= 3.637768030\n",
            "Epoch : 0010 cost= 2.729751825\n",
            "Epoch : 0011 cost= 2.157511234\n",
            "Epoch : 0012 cost= 1.715026379\n",
            "Epoch : 0013 cost= 1.249148488\n",
            "Epoch : 0014 cost= 0.994808137\n",
            "Epoch : 0015 cost= 0.837149620\n",
            "Learning finished..!\n"
          ],
          "name": "stdout"
        }
      ]
    },
    {
      "cell_type": "code",
      "metadata": {
        "id": "shkyWSL2iwtr",
        "colab_type": "code",
        "colab": {
          "base_uri": "https://localhost:8080/",
          "height": 122
        },
        "outputId": "a0cd7f2c-fa50-4831-99a3-17a8de9a1ce1"
      },
      "source": [
        "with torch.no_grad():\n",
        "    # float() : GPU => CPU 로 데이터 내리기\n",
        "    X_test = mnist_test.test_data.view(-1,28*28).float().to(device)\n",
        "    Y_test = mnist_test.test_labels.to(device)\n",
        "\n",
        "    prediction = model(X_test)\n",
        "    correct_prediction = torch.argmax(prediction , 1 ) == Y_test\n",
        "    accuracy = correct_prediction.float().mean()\n",
        "    print('Accuracy:',accuracy.item())\n",
        "    "
      ],
      "execution_count": 40,
      "outputs": [
        {
          "output_type": "stream",
          "text": [
            "Accuracy: 0.9459999799728394\n"
          ],
          "name": "stdout"
        },
        {
          "output_type": "stream",
          "text": [
            "/usr/local/lib/python3.6/dist-packages/torchvision/datasets/mnist.py:60: UserWarning: test_data has been renamed data\n",
            "  warnings.warn(\"test_data has been renamed data\")\n",
            "/usr/local/lib/python3.6/dist-packages/torchvision/datasets/mnist.py:50: UserWarning: test_labels has been renamed targets\n",
            "  warnings.warn(\"test_labels has been renamed targets\")\n"
          ],
          "name": "stderr"
        }
      ]
    },
    {
      "cell_type": "code",
      "metadata": {
        "id": "CotyaqfLjXYR",
        "colab_type": "code",
        "colab": {
          "base_uri": "https://localhost:8080/",
          "height": 139
        },
        "outputId": "6cd23be8-c5c6-494a-d761-5cd38c678fd0"
      },
      "source": [
        "r = random.randint(0,len(mnist_test)-1)\n",
        "X_single_data = mnist_test.test_data[r:r+1].view(-1,28*28).float().to(device)\n",
        "Y_single_data = mnist_test.test_labels[r:r+1].to(device)\n",
        "\n",
        "print('Label:',Y_single_data.item())\n",
        "single_prediction = model(X_single_data)\n",
        "print('Prediction :',torch.argmax(single_prediction,1).item())\n"
      ],
      "execution_count": 41,
      "outputs": [
        {
          "output_type": "stream",
          "text": [
            "Label: 8\n",
            "Prediction : 5\n"
          ],
          "name": "stdout"
        },
        {
          "output_type": "stream",
          "text": [
            "/usr/local/lib/python3.6/dist-packages/torchvision/datasets/mnist.py:60: UserWarning: test_data has been renamed data\n",
            "  warnings.warn(\"test_data has been renamed data\")\n",
            "/usr/local/lib/python3.6/dist-packages/torchvision/datasets/mnist.py:50: UserWarning: test_labels has been renamed targets\n",
            "  warnings.warn(\"test_labels has been renamed targets\")\n"
          ],
          "name": "stderr"
        }
      ]
    },
    {
      "cell_type": "code",
      "metadata": {
        "id": "g3gY_E7tkF-P",
        "colab_type": "code",
        "colab": {
          "base_uri": "https://localhost:8080/",
          "height": 282
        },
        "outputId": "5814edd8-1899-4cf5-b09d-cd92c478e989"
      },
      "source": [
        "import matplotlib.pyplot as plt\n",
        "plt.imshow(X_single_data.reshape(28,28).cpu())\n",
        "print(Y_single_data)"
      ],
      "execution_count": 42,
      "outputs": [
        {
          "output_type": "stream",
          "text": [
            "tensor([8], device='cuda:0')\n"
          ],
          "name": "stdout"
        },
        {
          "output_type": "display_data",
          "data": {
            "image/png": "[encoded data removed]",
            "text/plain": [
              "<Figure size 432x288 with 1 Axes>"
            ]
          },
          "metadata": {
            "tags": [],
            "needs_background": "light"
          }
        }
      ]
    }
  ]
}