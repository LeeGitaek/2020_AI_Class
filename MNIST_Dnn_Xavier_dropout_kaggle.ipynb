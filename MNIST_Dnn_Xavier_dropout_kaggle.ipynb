{
  "nbformat": 4,
  "nbformat_minor": 0,
  "metadata": {
    "colab": {
      "name": "MNIST_Dnn_Xavier_dropout_kaggle.ipynb",
      "provenance": [],
      "collapsed_sections": [],
      "authorship_tag": "ABX9TyOScdswHLCYazUoL/+7RYtR",
      "include_colab_link": true
    },
    "kernelspec": {
      "name": "python3",
      "display_name": "Python 3"
    },
    "accelerator": "GPU"
  },
  "cells": [
    {
      "cell_type": "markdown",
      "metadata": {
        "id": "view-in-github",
        "colab_type": "text"
      },
      "source": [
        "<a href=\"https://colab.research.google.com/github/LeeGitaek/2020_AI_Class/blob/master/MNIST_Dnn_Xavier_dropout_kaggle.ipynb\" target=\"_parent\"><img src=\"https://colab.research.google.com/assets/colab-badge.svg\" alt=\"Open In Colab\"/></a>"
      ]
    },
    {
      "cell_type": "code",
      "metadata": {
        "id": "9X9yi1bEbkwi",
        "colab_type": "code",
        "outputId": "73b72701-3671-43d7-9e8b-f4f9c704d533",
        "colab": {
          "base_uri": "https://localhost:8080/",
          "height": 632
        }
      },
      "source": [
        "!pip uninstall kaggle\n",
        "!pip install --upgrade pip\n",
        "!pip install kaggle==1.5.6"
      ],
      "execution_count": 1,
      "outputs": [
        {
          "output_type": "stream",
          "text": [
            "Uninstalling kaggle-1.5.6:\n",
            "  Would remove:\n",
            "    /usr/local/bin/kaggle\n",
            "    /usr/local/lib/python3.6/dist-packages/kaggle-1.5.6.dist-info/*\n",
            "    /usr/local/lib/python3.6/dist-packages/kaggle/*\n",
            "Proceed (y/n)? y\n",
            "  Successfully uninstalled kaggle-1.5.6\n",
            "Collecting pip\n",
            "\u001b[?25l  Downloading https://files.pythonhosted.org/packages/43/84/23ed6a1796480a6f1a2d38f2802901d078266bda38388954d01d3f2e821d/pip-20.1.1-py2.py3-none-any.whl (1.5MB)\n",
            "\u001b[K     |████████████████████████████████| 1.5MB 9.0MB/s \n",
            "\u001b[?25hInstalling collected packages: pip\n",
            "  Found existing installation: pip 19.3.1\n",
            "    Uninstalling pip-19.3.1:\n",
            "      Successfully uninstalled pip-19.3.1\n",
            "Successfully installed pip-20.1.1\n",
            "Collecting kaggle==1.5.6\n",
            "  Downloading kaggle-1.5.6.tar.gz (58 kB)\n",
            "\u001b[K     |████████████████████████████████| 58 kB 3.9 MB/s \n",
            "\u001b[?25hRequirement already satisfied: urllib3<1.25,>=1.21.1 in /usr/local/lib/python3.6/dist-packages (from kaggle==1.5.6) (1.24.3)\n",
            "Requirement already satisfied: six>=1.10 in /usr/local/lib/python3.6/dist-packages (from kaggle==1.5.6) (1.12.0)\n",
            "Requirement already satisfied: certifi in /usr/local/lib/python3.6/dist-packages (from kaggle==1.5.6) (2020.4.5.1)\n",
            "Requirement already satisfied: python-dateutil in /usr/local/lib/python3.6/dist-packages (from kaggle==1.5.6) (2.8.1)\n",
            "Requirement already satisfied: requests in /usr/local/lib/python3.6/dist-packages (from kaggle==1.5.6) (2.23.0)\n",
            "Requirement already satisfied: tqdm in /usr/local/lib/python3.6/dist-packages (from kaggle==1.5.6) (4.41.1)\n",
            "Requirement already satisfied: python-slugify in /usr/local/lib/python3.6/dist-packages (from kaggle==1.5.6) (4.0.0)\n",
            "Requirement already satisfied: chardet<4,>=3.0.2 in /usr/local/lib/python3.6/dist-packages (from requests->kaggle==1.5.6) (3.0.4)\n",
            "Requirement already satisfied: idna<3,>=2.5 in /usr/local/lib/python3.6/dist-packages (from requests->kaggle==1.5.6) (2.9)\n",
            "Requirement already satisfied: text-unidecode>=1.3 in /usr/local/lib/python3.6/dist-packages (from python-slugify->kaggle==1.5.6) (1.3)\n",
            "Building wheels for collected packages: kaggle\n",
            "  Building wheel for kaggle (setup.py) ... \u001b[?25l\u001b[?25hdone\n",
            "  Created wheel for kaggle: filename=kaggle-1.5.6-py3-none-any.whl size=72859 sha256=c555ad03fa34dd6703106b103c49bc533d81beb264a3f1a6ea8c5f8f660e922a\n",
            "  Stored in directory: /root/.cache/pip/wheels/01/3e/ff/77407ebac3ef71a79b9166a8382aecf88415a0bcbe3c095a01\n",
            "Successfully built kaggle\n",
            "Installing collected packages: kaggle\n",
            "Successfully installed kaggle-1.5.6\n"
          ],
          "name": "stdout"
        }
      ]
    },
    {
      "cell_type": "code",
      "metadata": {
        "id": "lTIZsgkVbrsb",
        "colab_type": "code",
        "outputId": "3af9d0ec-a4f6-4828-aec5-c1798ab3e9ba",
        "colab": {
          "base_uri": "https://localhost:8080/",
          "height": 34
        }
      },
      "source": [
        "!mkdir -p ~/.kaggle\n",
        "!cp kaggle.json ~/.kaggle\n",
        "!ls -lha kaggle.json\n",
        "!chmod 600 ~/.kaggle/kaggle.json"
      ],
      "execution_count": 9,
      "outputs": [
        {
          "output_type": "stream",
          "text": [
            "-rw-r--r-- 1 root root 68 Jun  5 11:32 kaggle.json\n"
          ],
          "name": "stdout"
        }
      ]
    },
    {
      "cell_type": "code",
      "metadata": {
        "id": "e3Cw85_-buCZ",
        "colab_type": "code",
        "outputId": "1ac5bf9d-efa8-46b8-9876-9d664c5d4c30",
        "colab": {
          "base_uri": "https://localhost:8080/",
          "height": 68
        }
      },
      "source": [
        "!kaggle competitions download -c 2020aimnist"
      ],
      "execution_count": 10,
      "outputs": [
        {
          "output_type": "stream",
          "text": [
            "Downloading 2020aimnist.zip to /content\n",
            " 51% 9.00M/17.8M [00:00<00:00, 21.3MB/s]\n",
            "100% 17.8M/17.8M [00:00<00:00, 39.6MB/s]\n"
          ],
          "name": "stdout"
        }
      ]
    },
    {
      "cell_type": "code",
      "metadata": {
        "id": "YV1UcTNLbus0",
        "colab_type": "code",
        "outputId": "284b3dfd-bbad-439b-ee7c-f37aa6319ca9",
        "colab": {
          "base_uri": "https://localhost:8080/",
          "height": 85
        }
      },
      "source": [
        "!unzip 2020aimnist.zip"
      ],
      "execution_count": 11,
      "outputs": [
        {
          "output_type": "stream",
          "text": [
            "Archive:  2020aimnist.zip\n",
            "  inflating: mnist_test.csv          \n",
            "  inflating: mnist_train.csv         \n",
            "  inflating: submission.csv          \n"
          ],
          "name": "stdout"
        }
      ]
    },
    {
      "cell_type": "code",
      "metadata": {
        "id": "7XkF9znHcWQN",
        "colab_type": "code",
        "colab": {}
      },
      "source": [
        "import pandas as pd\n",
        "import numpy as np\n",
        "\n",
        "import torch\n",
        "import torchvision.datasets as data \n",
        "import torchvision.transforms as transforms\n",
        "import random "
      ],
      "execution_count": 0,
      "outputs": []
    },
    {
      "cell_type": "code",
      "metadata": {
        "id": "DGzSYtBWcik5",
        "colab_type": "code",
        "colab": {}
      },
      "source": [
        "device = 'cuda' if torch.cuda.is_available() else 'cpu'\n",
        "random.seed(777)\n",
        "#난수생성 규칙 설정 seed\n",
        "torch.manual_seed(777)\n",
        "if device == 'cuda':\n",
        "    torch.cuda.manual_seed_all(777)"
      ],
      "execution_count": 0,
      "outputs": []
    },
    {
      "cell_type": "code",
      "metadata": {
        "id": "tD-o1R8edAYa",
        "colab_type": "code",
        "colab": {}
      },
      "source": [
        "#학습 파라미터 설정\n",
        "# tpu = 구글에서 만든 gpu\n",
        "\n",
        "learning_rate = 0 # 과제 기간으로 인한 비공개 \n",
        "training_epochs = 0 # 과제 기간으로 인한 비공개\n",
        "batch_size = 100\n",
        "drop_prob = 0.3\n",
        "#모의 문제 해결 수 "
      ],
      "execution_count": 0,
      "outputs": []
    },
    {
      "cell_type": "code",
      "metadata": {
        "id": "JqZxSNP-b_WX",
        "colab_type": "code",
        "colab": {}
      },
      "source": [
        "train_data=pd.read_csv('mnist_train.csv',header=None,skiprows=1, usecols=range(1,786))\n",
        "test_data=pd.read_csv('mnist_test.csv',header=None,skiprows=1, usecols=range(1,785))"
      ],
      "execution_count": 0,
      "outputs": []
    },
    {
      "cell_type": "code",
      "metadata": {
        "id": "G9Gg5YuecBZP",
        "colab_type": "code",
        "colab": {}
      },
      "source": [
        "x_train_data=train_data.loc[:,0:784]\n",
        "y_train_data=train_data.loc[:,785]\n",
        "\n",
        "x_train_data=np.array(x_train_data)\n",
        "y_train_data=np.array(y_train_data)\n",
        "\n",
        "x_train_data=torch.FloatTensor(x_train_data)\n",
        "y_train_data=torch.LongTensor(y_train_data)"
      ],
      "execution_count": 0,
      "outputs": []
    },
    {
      "cell_type": "code",
      "metadata": {
        "id": "CWIQr4A9cD7h",
        "colab_type": "code",
        "colab": {}
      },
      "source": [
        "train_dataset = torch.utils.data.TensorDataset(x_train_data, y_train_data)\n"
      ],
      "execution_count": 0,
      "outputs": []
    },
    {
      "cell_type": "code",
      "metadata": {
        "id": "9MlUillheUQE",
        "colab_type": "code",
        "colab": {}
      },
      "source": [
        "data_loader = torch.utils.data.DataLoader(dataset=train_dataset,\n",
        "                                          batch_size=batch_size,\n",
        "                                          shuffle=True,\n",
        "                                          drop_last=True)\n",
        "\n",
        "\n",
        "#shuffle = 데이터 섞어줌\n",
        "## root 값은 어디에 저장할 것인가 "
      ],
      "execution_count": 0,
      "outputs": []
    },
    {
      "cell_type": "code",
      "metadata": {
        "id": "DeKC5kp5fboz",
        "colab_type": "code",
        "colab": {}
      },
      "source": [
        "linear1 = torch.nn.Linear(784,512,bias=True)\n",
        "linear2 = torch.nn.Linear(512,512,bias=True)\n",
        "linear3 = torch.nn.Linear(512,512,bias=True)\n",
        "linear4 = torch.nn.Linear(512,512,bias=True)\n",
        "linear5 = torch.nn.Linear(512,10,bias=True)\n",
        "relu = torch.nn.ReLU()\n",
        "dropout = torch.nn.Dropout(p=drop_prob)\n",
        "#레이어를 5개 쌓는다. \n",
        "# ( nn + relu ) *5"
      ],
      "execution_count": 0,
      "outputs": []
    },
    {
      "cell_type": "code",
      "metadata": {
        "id": "45e5bP1rflsV",
        "colab_type": "code",
        "outputId": "705e6f95-7801-4555-f610-adc21e3fe434",
        "colab": {
          "base_uri": "https://localhost:8080/",
          "height": 340
        }
      },
      "source": [
        "torch.nn.init.xavier_uniform(linear1.weight)\n",
        "torch.nn.init.xavier_uniform(linear2.weight)\n",
        "torch.nn.init.xavier_uniform(linear3.weight)\n",
        "torch.nn.init.xavier_uniform(linear4.weight)\n",
        "torch.nn.init.xavier_uniform(linear5.weight)"
      ],
      "execution_count": 298,
      "outputs": [
        {
          "output_type": "stream",
          "text": [
            "/usr/local/lib/python3.6/dist-packages/ipykernel_launcher.py:1: UserWarning: nn.init.xavier_uniform is now deprecated in favor of nn.init.xavier_uniform_.\n",
            "  \"\"\"Entry point for launching an IPython kernel.\n",
            "/usr/local/lib/python3.6/dist-packages/ipykernel_launcher.py:2: UserWarning: nn.init.xavier_uniform is now deprecated in favor of nn.init.xavier_uniform_.\n",
            "  \n",
            "/usr/local/lib/python3.6/dist-packages/ipykernel_launcher.py:3: UserWarning: nn.init.xavier_uniform is now deprecated in favor of nn.init.xavier_uniform_.\n",
            "  This is separate from the ipykernel package so we can avoid doing imports until\n",
            "/usr/local/lib/python3.6/dist-packages/ipykernel_launcher.py:4: UserWarning: nn.init.xavier_uniform is now deprecated in favor of nn.init.xavier_uniform_.\n",
            "  after removing the cwd from sys.path.\n",
            "/usr/local/lib/python3.6/dist-packages/ipykernel_launcher.py:5: UserWarning: nn.init.xavier_uniform is now deprecated in favor of nn.init.xavier_uniform_.\n",
            "  \"\"\"\n"
          ],
          "name": "stderr"
        },
        {
          "output_type": "execute_result",
          "data": {
            "text/plain": [
              "Parameter containing:\n",
              "tensor([[-0.0565,  0.0423, -0.0155,  ...,  0.1012,  0.0459, -0.0191],\n",
              "        [ 0.0772,  0.0452, -0.0638,  ...,  0.0476, -0.0638,  0.0528],\n",
              "        [ 0.0311, -0.1023, -0.0701,  ...,  0.0412, -0.1004,  0.0738],\n",
              "        ...,\n",
              "        [ 0.0334,  0.0187, -0.1021,  ...,  0.0280, -0.0583, -0.1018],\n",
              "        [-0.0506, -0.0939, -0.0467,  ..., -0.0554, -0.0325,  0.0640],\n",
              "        [-0.0183, -0.0123,  0.1025,  ..., -0.0214,  0.0220, -0.0741]],\n",
              "       requires_grad=True)"
            ]
          },
          "metadata": {
            "tags": []
          },
          "execution_count": 298
        }
      ]
    },
    {
      "cell_type": "code",
      "metadata": {
        "id": "eP0MQ1aFgCum",
        "colab_type": "code",
        "colab": {}
      },
      "source": [
        "model = torch.nn.Sequential(linear1,relu,dropout,\n",
        "                            linear2,relu,dropout,\n",
        "                            linear3,relu,dropout,\n",
        "                            linear4,relu,dropout,\n",
        "                            linear5).to(device)\n",
        "#맨 마지막 레이어에서는 relu는 빼준다."
      ],
      "execution_count": 0,
      "outputs": []
    },
    {
      "cell_type": "code",
      "metadata": {
        "id": "ccSI0IoygPAQ",
        "colab_type": "code",
        "colab": {}
      },
      "source": [
        "#손실함수와 최적화 함수 \n",
        "loss = torch.nn.CrossEntropyLoss().to(device) # 소프트맥스 내부적으로 계산 \n",
        "optimizer = torch.optim.Adam(model.parameters(),lr=learning_rate) "
      ],
      "execution_count": 0,
      "outputs": []
    },
    {
      "cell_type": "code",
      "metadata": {
        "id": "3wi_QG5Dgjhg",
        "colab_type": "code",
        "outputId": "299b32c2-2f9b-4ca5-864d-0a1e8aef2c43",
        "colab": {
          "base_uri": "https://localhost:8080/",
          "height": 1000
        }
      },
      "source": [
        "\n",
        "total_batch = len(data_loader)\n",
        "model.train() # drop_out= true\n",
        "for epoch in range(training_epochs):\n",
        "    avg_cost = 0\n",
        "\n",
        "    for X,Y in data_loader:\n",
        "      # (100,1,28,28) 크기의 텐서를 (100,784) 크기의 텐서로 변형 \n",
        "       X = X.view(-1,28*28).to(device) #reshape과 유사\n",
        "       # one - hot 인코딩 되어있지 않음 \n",
        "       Y = Y.to(device)\n",
        "\n",
        "       # 그레디언트 초기화\n",
        "       optimizer.zero_grad()\n",
        "       hypothesis = model(X)\n",
        "\n",
        "       cost = loss(hypothesis,Y) \n",
        "       cost.backward()\n",
        "       optimizer.step()\n",
        "\n",
        "       avg_cost += cost/total_batch\n",
        "\n",
        "    print('Epoch :','%04d' % (epoch+1),'cost=','{:.9f}'.format(avg_cost))\n",
        "print('Learning finished..!')"
      ],
      "execution_count": 301,
      "outputs": [
        {
          "output_type": "stream",
          "text": [
            "Epoch : 0001 cost= 10.068163872\n",
            "Epoch : 0002 cost= 1.855144024\n",
            "Epoch : 0003 cost= 1.063335776\n",
            "Epoch : 0004 cost= 0.739742637\n",
            "Epoch : 0005 cost= 0.565386117\n",
            "Epoch : 0006 cost= 0.465037584\n",
            "Epoch : 0007 cost= 0.397254080\n",
            "Epoch : 0008 cost= 0.340348005\n",
            "Epoch : 0009 cost= 0.295615017\n",
            "Epoch : 0010 cost= 0.266150504\n",
            "Epoch : 0011 cost= 0.235265553\n",
            "Epoch : 0012 cost= 0.207143396\n",
            "Epoch : 0013 cost= 0.191651613\n",
            "Epoch : 0014 cost= 0.174880370\n",
            "Epoch : 0015 cost= 0.157929808\n",
            "Epoch : 0016 cost= 0.147600383\n",
            "Epoch : 0017 cost= 0.130558446\n",
            "Epoch : 0018 cost= 0.121778741\n",
            "Epoch : 0019 cost= 0.106817149\n",
            "Epoch : 0020 cost= 0.102449752\n",
            "Epoch : 0021 cost= 0.093787350\n",
            "Epoch : 0022 cost= 0.085184276\n",
            "Epoch : 0023 cost= 0.085512109\n",
            "Epoch : 0024 cost= 0.078160197\n",
            "Epoch : 0025 cost= 0.072555318\n",
            "Epoch : 0026 cost= 0.066594794\n",
            "Epoch : 0027 cost= 0.062752120\n",
            "Epoch : 0028 cost= 0.060347509\n",
            "Epoch : 0029 cost= 0.056723788\n",
            "Epoch : 0030 cost= 0.053099457\n",
            "Epoch : 0031 cost= 0.051809765\n",
            "Epoch : 0032 cost= 0.047702402\n",
            "Epoch : 0033 cost= 0.046144061\n",
            "Epoch : 0034 cost= 0.042538557\n",
            "Epoch : 0035 cost= 0.040747765\n",
            "Epoch : 0036 cost= 0.039186724\n",
            "Epoch : 0037 cost= 0.039446700\n",
            "Epoch : 0038 cost= 0.036979858\n",
            "Epoch : 0039 cost= 0.033083748\n",
            "Epoch : 0040 cost= 0.032689411\n",
            "Epoch : 0041 cost= 0.032783728\n",
            "Epoch : 0042 cost= 0.030892493\n",
            "Epoch : 0043 cost= 0.028330874\n",
            "Epoch : 0044 cost= 0.028455868\n",
            "Epoch : 0045 cost= 0.028545739\n",
            "Epoch : 0046 cost= 0.026763346\n",
            "Epoch : 0047 cost= 0.025676934\n",
            "Epoch : 0048 cost= 0.025440786\n",
            "Epoch : 0049 cost= 0.023857435\n",
            "Epoch : 0050 cost= 0.024894692\n",
            "Epoch : 0051 cost= 0.023728669\n",
            "Epoch : 0052 cost= 0.023933401\n",
            "Epoch : 0053 cost= 0.022442704\n",
            "Epoch : 0054 cost= 0.022556050\n",
            "Epoch : 0055 cost= 0.021542938\n",
            "Epoch : 0056 cost= 0.022458669\n",
            "Epoch : 0057 cost= 0.020659272\n",
            "Epoch : 0058 cost= 0.021301076\n",
            "Epoch : 0059 cost= 0.021912262\n",
            "Epoch : 0060 cost= 0.018465063\n",
            "Epoch : 0061 cost= 0.019032760\n",
            "Epoch : 0062 cost= 0.021193756\n",
            "Epoch : 0063 cost= 0.020077797\n",
            "Epoch : 0064 cost= 0.017398419\n",
            "Epoch : 0065 cost= 0.017061219\n",
            "Epoch : 0066 cost= 0.018896101\n",
            "Epoch : 0067 cost= 0.017358173\n",
            "Epoch : 0068 cost= 0.015353678\n",
            "Epoch : 0069 cost= 0.017596193\n",
            "Epoch : 0070 cost= 0.016794048\n",
            "Epoch : 0071 cost= 0.016439823\n",
            "Epoch : 0072 cost= 0.015279329\n",
            "Epoch : 0073 cost= 0.015243412\n",
            "Epoch : 0074 cost= 0.015944874\n",
            "Epoch : 0075 cost= 0.016112018\n",
            "Epoch : 0076 cost= 0.013952404\n",
            "Epoch : 0077 cost= 0.016409408\n",
            "Epoch : 0078 cost= 0.015644189\n",
            "Epoch : 0079 cost= 0.014500148\n",
            "Epoch : 0080 cost= 0.015128447\n",
            "Epoch : 0081 cost= 0.015816258\n",
            "Epoch : 0082 cost= 0.014619489\n",
            "Epoch : 0083 cost= 0.016578060\n",
            "Epoch : 0084 cost= 0.013847881\n",
            "Epoch : 0085 cost= 0.013462723\n",
            "Epoch : 0086 cost= 0.012771256\n",
            "Epoch : 0087 cost= 0.012917901\n",
            "Epoch : 0088 cost= 0.013672836\n",
            "Epoch : 0089 cost= 0.012183402\n",
            "Epoch : 0090 cost= 0.013603021\n",
            "Epoch : 0091 cost= 0.011957011\n",
            "Epoch : 0092 cost= 0.013794377\n",
            "Epoch : 0093 cost= 0.014516110\n",
            "Epoch : 0094 cost= 0.012842851\n",
            "Epoch : 0095 cost= 0.013184761\n",
            "Epoch : 0096 cost= 0.012687769\n",
            "Epoch : 0097 cost= 0.012058219\n",
            "Epoch : 0098 cost= 0.010889607\n",
            "Epoch : 0099 cost= 0.010605739\n",
            "Epoch : 0100 cost= 0.012960793\n",
            "Epoch : 0101 cost= 0.012314810\n",
            "Epoch : 0102 cost= 0.011562342\n",
            "Epoch : 0103 cost= 0.010955507\n",
            "Epoch : 0104 cost= 0.011133660\n",
            "Epoch : 0105 cost= 0.011030637\n",
            "Epoch : 0106 cost= 0.011058408\n",
            "Epoch : 0107 cost= 0.011593913\n",
            "Epoch : 0108 cost= 0.009878068\n",
            "Epoch : 0109 cost= 0.009795969\n",
            "Epoch : 0110 cost= 0.010734285\n",
            "Epoch : 0111 cost= 0.010020201\n",
            "Epoch : 0112 cost= 0.011153583\n",
            "Epoch : 0113 cost= 0.010367137\n",
            "Epoch : 0114 cost= 0.010259788\n",
            "Epoch : 0115 cost= 0.011653270\n",
            "Epoch : 0116 cost= 0.009610473\n",
            "Epoch : 0117 cost= 0.011436149\n",
            "Epoch : 0118 cost= 0.010111818\n",
            "Epoch : 0119 cost= 0.012035138\n",
            "Epoch : 0120 cost= 0.009374755\n",
            "Epoch : 0121 cost= 0.010315483\n",
            "Epoch : 0122 cost= 0.009598940\n",
            "Epoch : 0123 cost= 0.009243688\n",
            "Epoch : 0124 cost= 0.009852373\n",
            "Epoch : 0125 cost= 0.010639899\n",
            "Epoch : 0126 cost= 0.009653534\n",
            "Epoch : 0127 cost= 0.010405210\n",
            "Epoch : 0128 cost= 0.009364475\n",
            "Epoch : 0129 cost= 0.007135386\n",
            "Epoch : 0130 cost= 0.010589872\n",
            "Epoch : 0131 cost= 0.008632323\n",
            "Epoch : 0132 cost= 0.008611974\n",
            "Epoch : 0133 cost= 0.009277763\n",
            "Epoch : 0134 cost= 0.009205359\n",
            "Epoch : 0135 cost= 0.010680160\n",
            "Epoch : 0136 cost= 0.008446140\n",
            "Epoch : 0137 cost= 0.009703665\n",
            "Epoch : 0138 cost= 0.007985497\n",
            "Epoch : 0139 cost= 0.009791126\n",
            "Epoch : 0140 cost= 0.008481991\n",
            "Epoch : 0141 cost= 0.009020037\n",
            "Epoch : 0142 cost= 0.008784567\n",
            "Epoch : 0143 cost= 0.008803931\n",
            "Epoch : 0144 cost= 0.008265902\n",
            "Epoch : 0145 cost= 0.009843165\n",
            "Epoch : 0146 cost= 0.010543636\n",
            "Epoch : 0147 cost= 0.007735885\n",
            "Epoch : 0148 cost= 0.008793519\n",
            "Epoch : 0149 cost= 0.008210491\n",
            "Epoch : 0150 cost= 0.008760383\n",
            "Learning finished..!\n"
          ],
          "name": "stdout"
        }
      ]
    },
    {
      "cell_type": "code",
      "metadata": {
        "id": "shkyWSL2iwtr",
        "colab_type": "code",
        "colab": {}
      },
      "source": [
        "\n",
        "with torch.no_grad():\n",
        "  model.eval()\n",
        "  x_test_data=test_data.loc[:,:]\n",
        "  x_test_data=np.array(x_test_data)\n",
        "  x_test_data=torch.from_numpy(x_test_data).float().to(device)\n",
        "\n",
        "  prediction = model(x_test_data)\n",
        "  correct_prediction = torch.argmax(prediction, 1)\n"
      ],
      "execution_count": 0,
      "outputs": []
    },
    {
      "cell_type": "code",
      "metadata": {
        "id": "o1UQsF1xcf9R",
        "colab_type": "code",
        "colab": {}
      },
      "source": [
        "correct_prediction = correct_prediction.cpu().numpy().reshape(-1,1)"
      ],
      "execution_count": 0,
      "outputs": []
    },
    {
      "cell_type": "code",
      "metadata": {
        "id": "_wf66bfXciFz",
        "colab_type": "code",
        "outputId": "f7a5cac9-85e8-4c48-9ca2-951b3e8b750e",
        "colab": {
          "base_uri": "https://localhost:8080/",
          "height": 419
        }
      },
      "source": [
        "submit=pd.read_csv('submission.csv')\n",
        "submit"
      ],
      "execution_count": 304,
      "outputs": [
        {
          "output_type": "execute_result",
          "data": {
            "text/html": [
              "<div>\n",
              "<style scoped>\n",
              "    .dataframe tbody tr th:only-of-type {\n",
              "        vertical-align: middle;\n",
              "    }\n",
              "\n",
              "    .dataframe tbody tr th {\n",
              "        vertical-align: top;\n",
              "    }\n",
              "\n",
              "    .dataframe thead th {\n",
              "        text-align: right;\n",
              "    }\n",
              "</style>\n",
              "<table border=\"1\" class=\"dataframe\">\n",
              "  <thead>\n",
              "    <tr style=\"text-align: right;\">\n",
              "      <th></th>\n",
              "      <th>id</th>\n",
              "      <th>Label</th>\n",
              "    </tr>\n",
              "  </thead>\n",
              "  <tbody>\n",
              "    <tr>\n",
              "      <th>0</th>\n",
              "      <td>0</td>\n",
              "      <td>1</td>\n",
              "    </tr>\n",
              "    <tr>\n",
              "      <th>1</th>\n",
              "      <td>1</td>\n",
              "      <td>1</td>\n",
              "    </tr>\n",
              "    <tr>\n",
              "      <th>2</th>\n",
              "      <td>2</td>\n",
              "      <td>1</td>\n",
              "    </tr>\n",
              "    <tr>\n",
              "      <th>3</th>\n",
              "      <td>3</td>\n",
              "      <td>1</td>\n",
              "    </tr>\n",
              "    <tr>\n",
              "      <th>4</th>\n",
              "      <td>4</td>\n",
              "      <td>1</td>\n",
              "    </tr>\n",
              "    <tr>\n",
              "      <th>...</th>\n",
              "      <td>...</td>\n",
              "      <td>...</td>\n",
              "    </tr>\n",
              "    <tr>\n",
              "      <th>9995</th>\n",
              "      <td>9995</td>\n",
              "      <td>1</td>\n",
              "    </tr>\n",
              "    <tr>\n",
              "      <th>9996</th>\n",
              "      <td>9996</td>\n",
              "      <td>1</td>\n",
              "    </tr>\n",
              "    <tr>\n",
              "      <th>9997</th>\n",
              "      <td>9997</td>\n",
              "      <td>1</td>\n",
              "    </tr>\n",
              "    <tr>\n",
              "      <th>9998</th>\n",
              "      <td>9998</td>\n",
              "      <td>1</td>\n",
              "    </tr>\n",
              "    <tr>\n",
              "      <th>9999</th>\n",
              "      <td>9999</td>\n",
              "      <td>1</td>\n",
              "    </tr>\n",
              "  </tbody>\n",
              "</table>\n",
              "<p>10000 rows × 2 columns</p>\n",
              "</div>"
            ],
            "text/plain": [
              "        id  Label\n",
              "0        0      1\n",
              "1        1      1\n",
              "2        2      1\n",
              "3        3      1\n",
              "4        4      1\n",
              "...    ...    ...\n",
              "9995  9995      1\n",
              "9996  9996      1\n",
              "9997  9997      1\n",
              "9998  9998      1\n",
              "9999  9999      1\n",
              "\n",
              "[10000 rows x 2 columns]"
            ]
          },
          "metadata": {
            "tags": []
          },
          "execution_count": 304
        }
      ]
    },
    {
      "cell_type": "code",
      "metadata": {
        "id": "hTKLoNvfckOb",
        "colab_type": "code",
        "outputId": "e069e141-895c-4410-fb05-61dabc8605ee",
        "colab": {
          "base_uri": "https://localhost:8080/",
          "height": 419
        }
      },
      "source": [
        "for i in range(len(correct_prediction)):\n",
        "  submit['Label'][i]=correct_prediction[i].item()\n",
        "\n",
        "submit"
      ],
      "execution_count": 305,
      "outputs": [
        {
          "output_type": "execute_result",
          "data": {
            "text/html": [
              "<div>\n",
              "<style scoped>\n",
              "    .dataframe tbody tr th:only-of-type {\n",
              "        vertical-align: middle;\n",
              "    }\n",
              "\n",
              "    .dataframe tbody tr th {\n",
              "        vertical-align: top;\n",
              "    }\n",
              "\n",
              "    .dataframe thead th {\n",
              "        text-align: right;\n",
              "    }\n",
              "</style>\n",
              "<table border=\"1\" class=\"dataframe\">\n",
              "  <thead>\n",
              "    <tr style=\"text-align: right;\">\n",
              "      <th></th>\n",
              "      <th>id</th>\n",
              "      <th>Label</th>\n",
              "    </tr>\n",
              "  </thead>\n",
              "  <tbody>\n",
              "    <tr>\n",
              "      <th>0</th>\n",
              "      <td>0</td>\n",
              "      <td>7</td>\n",
              "    </tr>\n",
              "    <tr>\n",
              "      <th>1</th>\n",
              "      <td>1</td>\n",
              "      <td>2</td>\n",
              "    </tr>\n",
              "    <tr>\n",
              "      <th>2</th>\n",
              "      <td>2</td>\n",
              "      <td>1</td>\n",
              "    </tr>\n",
              "    <tr>\n",
              "      <th>3</th>\n",
              "      <td>3</td>\n",
              "      <td>0</td>\n",
              "    </tr>\n",
              "    <tr>\n",
              "      <th>4</th>\n",
              "      <td>4</td>\n",
              "      <td>4</td>\n",
              "    </tr>\n",
              "    <tr>\n",
              "      <th>...</th>\n",
              "      <td>...</td>\n",
              "      <td>...</td>\n",
              "    </tr>\n",
              "    <tr>\n",
              "      <th>9995</th>\n",
              "      <td>9995</td>\n",
              "      <td>2</td>\n",
              "    </tr>\n",
              "    <tr>\n",
              "      <th>9996</th>\n",
              "      <td>9996</td>\n",
              "      <td>3</td>\n",
              "    </tr>\n",
              "    <tr>\n",
              "      <th>9997</th>\n",
              "      <td>9997</td>\n",
              "      <td>4</td>\n",
              "    </tr>\n",
              "    <tr>\n",
              "      <th>9998</th>\n",
              "      <td>9998</td>\n",
              "      <td>5</td>\n",
              "    </tr>\n",
              "    <tr>\n",
              "      <th>9999</th>\n",
              "      <td>9999</td>\n",
              "      <td>6</td>\n",
              "    </tr>\n",
              "  </tbody>\n",
              "</table>\n",
              "<p>10000 rows × 2 columns</p>\n",
              "</div>"
            ],
            "text/plain": [
              "        id  Label\n",
              "0        0      7\n",
              "1        1      2\n",
              "2        2      1\n",
              "3        3      0\n",
              "4        4      4\n",
              "...    ...    ...\n",
              "9995  9995      2\n",
              "9996  9996      3\n",
              "9997  9997      4\n",
              "9998  9998      5\n",
              "9999  9999      6\n",
              "\n",
              "[10000 rows x 2 columns]"
            ]
          },
          "metadata": {
            "tags": []
          },
          "execution_count": 305
        }
      ]
    },
    {
      "cell_type": "code",
      "metadata": {
        "id": "eI6-Ukb1cmyx",
        "colab_type": "code",
        "outputId": "77380459-ad8b-4b65-87ad-8fed2c462584",
        "colab": {
          "base_uri": "https://localhost:8080/",
          "height": 51
        }
      },
      "source": [
        "submit.to_csv('submission_result.csv',index=False,header=True)\n",
        "\n",
        "!kaggle competitions submit -c 2020aimnist -f submission_result.csv -m \"14010974 이기택\""
      ],
      "execution_count": 306,
      "outputs": [
        {
          "output_type": "stream",
          "text": [
            "100% 67.3k/67.3k [00:04<00:00, 16.0kB/s]\n",
            "403 - Your team has used its submission allowance (20 of 20). This resets at midnight UTC (10 hours from now).\n"
          ],
          "name": "stdout"
        }
      ]
    }
  ]
}
