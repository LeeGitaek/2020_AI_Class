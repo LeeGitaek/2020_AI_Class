{
  "nbformat": 4,
  "nbformat_minor": 0,
  "metadata": {
    "colab": {
      "name": "MNIST_Dnn_Xavier_dropout_kaggle.ipynb",
      "provenance": [],
      "collapsed_sections": [],
      "authorship_tag": "ABX9TyO99zHQK33hi7hn9chKinsd",
      "include_colab_link": true
    },
    "kernelspec": {
      "name": "python3",
      "display_name": "Python 3"
    },
    "accelerator": "GPU"
  },
  "cells": [
    {
      "cell_type": "markdown",
      "metadata": {
        "id": "view-in-github",
        "colab_type": "text"
      },
      "source": [
        "<a href=\"https://colab.research.google.com/github/LeeGitaek/2020_AI_Class/blob/master/MNIST_Dnn_Xavier_dropout_kaggle.ipynb\" target=\"_parent\"><img src=\"https://colab.research.google.com/assets/colab-badge.svg\" alt=\"Open In Colab\"/></a>"
      ]
    },
    {
      "cell_type": "code",
      "metadata": {
        "id": "9X9yi1bEbkwi",
        "colab_type": "code",
        "outputId": "73b72701-3671-43d7-9e8b-f4f9c704d533",
        "colab": {
          "base_uri": "https://localhost:8080/",
          "height": 632
        }
      },
      "source": [
        "!pip uninstall kaggle\n",
        "!pip install --upgrade pip\n",
        "!pip install kaggle==1.5.6"
      ],
      "execution_count": 1,
      "outputs": [
        {
          "output_type": "stream",
          "text": [
            "Uninstalling kaggle-1.5.6:\n",
            "  Would remove:\n",
            "    /usr/local/bin/kaggle\n",
            "    /usr/local/lib/python3.6/dist-packages/kaggle-1.5.6.dist-info/*\n",
            "    /usr/local/lib/python3.6/dist-packages/kaggle/*\n",
            "Proceed (y/n)? y\n",
            "  Successfully uninstalled kaggle-1.5.6\n",
            "Collecting pip\n",
            "\u001b[?25l  Downloading https://files.pythonhosted.org/packages/43/84/23ed6a1796480a6f1a2d38f2802901d078266bda38388954d01d3f2e821d/pip-20.1.1-py2.py3-none-any.whl (1.5MB)\n",
            "\u001b[K     |████████████████████████████████| 1.5MB 9.0MB/s \n",
            "\u001b[?25hInstalling collected packages: pip\n",
            "  Found existing installation: pip 19.3.1\n",
            "    Uninstalling pip-19.3.1:\n",
            "      Successfully uninstalled pip-19.3.1\n",
            "Successfully installed pip-20.1.1\n",
            "Collecting kaggle==1.5.6\n",
            "  Downloading kaggle-1.5.6.tar.gz (58 kB)\n",
            "\u001b[K     |████████████████████████████████| 58 kB 3.9 MB/s \n",
            "\u001b[?25hRequirement already satisfied: urllib3<1.25,>=1.21.1 in /usr/local/lib/python3.6/dist-packages (from kaggle==1.5.6) (1.24.3)\n",
            "Requirement already satisfied: six>=1.10 in /usr/local/lib/python3.6/dist-packages (from kaggle==1.5.6) (1.12.0)\n",
            "Requirement already satisfied: certifi in /usr/local/lib/python3.6/dist-packages (from kaggle==1.5.6) (2020.4.5.1)\n",
            "Requirement already satisfied: python-dateutil in /usr/local/lib/python3.6/dist-packages (from kaggle==1.5.6) (2.8.1)\n",
            "Requirement already satisfied: requests in /usr/local/lib/python3.6/dist-packages (from kaggle==1.5.6) (2.23.0)\n",
            "Requirement already satisfied: tqdm in /usr/local/lib/python3.6/dist-packages (from kaggle==1.5.6) (4.41.1)\n",
            "Requirement already satisfied: python-slugify in /usr/local/lib/python3.6/dist-packages (from kaggle==1.5.6) (4.0.0)\n",
            "Requirement already satisfied: chardet<4,>=3.0.2 in /usr/local/lib/python3.6/dist-packages (from requests->kaggle==1.5.6) (3.0.4)\n",
            "Requirement already satisfied: idna<3,>=2.5 in /usr/local/lib/python3.6/dist-packages (from requests->kaggle==1.5.6) (2.9)\n",
            "Requirement already satisfied: text-unidecode>=1.3 in /usr/local/lib/python3.6/dist-packages (from python-slugify->kaggle==1.5.6) (1.3)\n",
            "Building wheels for collected packages: kaggle\n",
            "  Building wheel for kaggle (setup.py) ... \u001b[?25l\u001b[?25hdone\n",
            "  Created wheel for kaggle: filename=kaggle-1.5.6-py3-none-any.whl size=72859 sha256=c555ad03fa34dd6703106b103c49bc533d81beb264a3f1a6ea8c5f8f660e922a\n",
            "  Stored in directory: /root/.cache/pip/wheels/01/3e/ff/77407ebac3ef71a79b9166a8382aecf88415a0bcbe3c095a01\n",
            "Successfully built kaggle\n",
            "Installing collected packages: kaggle\n",
            "Successfully installed kaggle-1.5.6\n"
          ],
          "name": "stdout"
        }
      ]
    },
    {
      "cell_type": "code",
      "metadata": {
        "id": "lTIZsgkVbrsb",
        "colab_type": "code",
        "outputId": "3af9d0ec-a4f6-4828-aec5-c1798ab3e9ba",
        "colab": {
          "base_uri": "https://localhost:8080/",
          "height": 34
        }
      },
      "source": [
        "!mkdir -p ~/.kaggle\n",
        "!cp kaggle.json ~/.kaggle\n",
        "!ls -lha kaggle.json\n",
        "!chmod 600 ~/.kaggle/kaggle.json"
      ],
      "execution_count": 9,
      "outputs": [
        {
          "output_type": "stream",
          "text": [
            "-rw-r--r-- 1 root root 68 Jun  5 11:32 kaggle.json\n"
          ],
          "name": "stdout"
        }
      ]
    },
    {
      "cell_type": "code",
      "metadata": {
        "id": "e3Cw85_-buCZ",
        "colab_type": "code",
        "outputId": "1ac5bf9d-efa8-46b8-9876-9d664c5d4c30",
        "colab": {
          "base_uri": "https://localhost:8080/",
          "height": 68
        }
      },
      "source": [
        "!kaggle competitions download -c 2020aimnist"
      ],
      "execution_count": 10,
      "outputs": [
        {
          "output_type": "stream",
          "text": [
            "Downloading 2020aimnist.zip to /content\n",
            " 51% 9.00M/17.8M [00:00<00:00, 21.3MB/s]\n",
            "100% 17.8M/17.8M [00:00<00:00, 39.6MB/s]\n"
          ],
          "name": "stdout"
        }
      ]
    },
    {
      "cell_type": "code",
      "metadata": {
        "id": "YV1UcTNLbus0",
        "colab_type": "code",
        "outputId": "284b3dfd-bbad-439b-ee7c-f37aa6319ca9",
        "colab": {
          "base_uri": "https://localhost:8080/",
          "height": 85
        }
      },
      "source": [
        "!unzip 2020aimnist.zip"
      ],
      "execution_count": 11,
      "outputs": [
        {
          "output_type": "stream",
          "text": [
            "Archive:  2020aimnist.zip\n",
            "  inflating: mnist_test.csv          \n",
            "  inflating: mnist_train.csv         \n",
            "  inflating: submission.csv          \n"
          ],
          "name": "stdout"
        }
      ]
    },
    {
      "cell_type": "code",
      "metadata": {
        "id": "7XkF9znHcWQN",
        "colab_type": "code",
        "colab": {}
      },
      "source": [
        "import pandas as pd\n",
        "import numpy as np\n",
        "\n",
        "import torch\n",
        "import torchvision.datasets as data \n",
        "import torchvision.transforms as transforms\n",
        "import random "
      ],
      "execution_count": 0,
      "outputs": []
    },
    {
      "cell_type": "code",
      "metadata": {
        "id": "DGzSYtBWcik5",
        "colab_type": "code",
        "colab": {}
      },
      "source": [
        "device = 'cuda' if torch.cuda.is_available() else 'cpu'\n",
        "random.seed(777)\n",
        "#난수생성 규칙 설정 seed\n",
        "torch.manual_seed(777)\n",
        "if device == 'cuda':\n",
        "    torch.cuda.manual_seed_all(777)"
      ],
      "execution_count": 0,
      "outputs": []
    },
    {
      "cell_type": "code",
      "metadata": {
        "id": "tD-o1R8edAYa",
        "colab_type": "code",
        "colab": {}
      },
      "source": [
        "#학습 파라미터 설정\n",
        "# tpu = 구글에서 만든 gpu\n",
        "\n",
        "learning_rate = 1e-4\n",
        "training_epochs = 100\n",
        "batch_size = 100\n",
        "drop_prob = 0.3\n",
        "#모의 문제 해결 수 "
      ],
      "execution_count": 0,
      "outputs": []
    },
    {
      "cell_type": "code",
      "metadata": {
        "id": "JqZxSNP-b_WX",
        "colab_type": "code",
        "colab": {}
      },
      "source": [
        "train_data=pd.read_csv('mnist_train.csv',header=None,skiprows=1, usecols=range(1,786))\n",
        "test_data=pd.read_csv('mnist_test.csv',header=None,skiprows=1, usecols=range(1,785))"
      ],
      "execution_count": 0,
      "outputs": []
    },
    {
      "cell_type": "code",
      "metadata": {
        "id": "G9Gg5YuecBZP",
        "colab_type": "code",
        "colab": {}
      },
      "source": [
        "x_train_data=train_data.loc[:,0:784]\n",
        "y_train_data=train_data.loc[:,785]\n",
        "\n",
        "x_train_data=np.array(x_train_data)\n",
        "y_train_data=np.array(y_train_data)\n",
        "\n",
        "x_train_data=torch.FloatTensor(x_train_data)\n",
        "y_train_data=torch.LongTensor(y_train_data)"
      ],
      "execution_count": 0,
      "outputs": []
    },
    {
      "cell_type": "code",
      "metadata": {
        "id": "CWIQr4A9cD7h",
        "colab_type": "code",
        "colab": {}
      },
      "source": [
        "train_dataset = torch.utils.data.TensorDataset(x_train_data, y_train_data)\n"
      ],
      "execution_count": 0,
      "outputs": []
    },
    {
      "cell_type": "code",
      "metadata": {
        "id": "9MlUillheUQE",
        "colab_type": "code",
        "colab": {}
      },
      "source": [
        "data_loader = torch.utils.data.DataLoader(dataset=train_dataset,\n",
        "                                          batch_size=batch_size,\n",
        "                                          shuffle=True,\n",
        "                                          drop_last=True)\n",
        "\n",
        "\n",
        "#shuffle = 데이터 섞어줌\n",
        "## root 값은 어디에 저장할 것인가 "
      ],
      "execution_count": 0,
      "outputs": []
    },
    {
      "cell_type": "code",
      "metadata": {
        "id": "DeKC5kp5fboz",
        "colab_type": "code",
        "colab": {}
      },
      "source": [
        "linear1 = torch.nn.Linear(784,512,bias=True)\n",
        "linear2 = torch.nn.Linear(512,512,bias=True)\n",
        "linear3 = torch.nn.Linear(512,512,bias=True)\n",
        "linear4 = torch.nn.Linear(512,512,bias=True)\n",
        "linear5 = torch.nn.Linear(512,10,bias=True)\n",
        "relu = torch.nn.ReLU()\n",
        "dropout = torch.nn.Dropout(p=drop_prob)\n",
        "#레이어를 5개 쌓는다. \n",
        "# ( nn + relu ) *5"
      ],
      "execution_count": 0,
      "outputs": []
    },
    {
      "cell_type": "code",
      "metadata": {
        "id": "45e5bP1rflsV",
        "colab_type": "code",
        "outputId": "51d428b9-de11-4e29-b270-a75764e4e6d4",
        "colab": {
          "base_uri": "https://localhost:8080/",
          "height": 340
        }
      },
      "source": [
        "torch.nn.init.xavier_uniform(linear1.weight)\n",
        "torch.nn.init.xavier_uniform(linear2.weight)\n",
        "torch.nn.init.xavier_uniform(linear3.weight)\n",
        "torch.nn.init.xavier_uniform(linear4.weight)\n",
        "torch.nn.init.xavier_uniform(linear5.weight)"
      ],
      "execution_count": 280,
      "outputs": [
        {
          "output_type": "stream",
          "text": [
            "/usr/local/lib/python3.6/dist-packages/ipykernel_launcher.py:1: UserWarning: nn.init.xavier_uniform is now deprecated in favor of nn.init.xavier_uniform_.\n",
            "  \"\"\"Entry point for launching an IPython kernel.\n",
            "/usr/local/lib/python3.6/dist-packages/ipykernel_launcher.py:2: UserWarning: nn.init.xavier_uniform is now deprecated in favor of nn.init.xavier_uniform_.\n",
            "  \n",
            "/usr/local/lib/python3.6/dist-packages/ipykernel_launcher.py:3: UserWarning: nn.init.xavier_uniform is now deprecated in favor of nn.init.xavier_uniform_.\n",
            "  This is separate from the ipykernel package so we can avoid doing imports until\n",
            "/usr/local/lib/python3.6/dist-packages/ipykernel_launcher.py:4: UserWarning: nn.init.xavier_uniform is now deprecated in favor of nn.init.xavier_uniform_.\n",
            "  after removing the cwd from sys.path.\n",
            "/usr/local/lib/python3.6/dist-packages/ipykernel_launcher.py:5: UserWarning: nn.init.xavier_uniform is now deprecated in favor of nn.init.xavier_uniform_.\n",
            "  \"\"\"\n"
          ],
          "name": "stderr"
        },
        {
          "output_type": "execute_result",
          "data": {
            "text/plain": [
              "Parameter containing:\n",
              "tensor([[ 0.0972,  0.1054,  0.0534,  ..., -0.0436, -0.1015,  0.0360],\n",
              "        [-0.0800, -0.0816,  0.0367,  ..., -0.0784, -0.1051,  0.0818],\n",
              "        [-0.0354,  0.0964, -0.0991,  ..., -0.0918, -0.0482, -0.0820],\n",
              "        ...,\n",
              "        [ 0.0556,  0.0444,  0.0962,  ...,  0.0452,  0.0126, -0.0811],\n",
              "        [ 0.0297,  0.0645, -0.0285,  ...,  0.0215, -0.0248,  0.0638],\n",
              "        [ 0.0596, -0.0491,  0.0391,  ..., -0.0817,  0.0132, -0.0201]],\n",
              "       requires_grad=True)"
            ]
          },
          "metadata": {
            "tags": []
          },
          "execution_count": 280
        }
      ]
    },
    {
      "cell_type": "code",
      "metadata": {
        "id": "eP0MQ1aFgCum",
        "colab_type": "code",
        "colab": {}
      },
      "source": [
        "model = torch.nn.Sequential(linear1,relu,dropout,\n",
        "                            linear2,relu,dropout,\n",
        "                            linear3,relu,dropout,\n",
        "                            linear4,relu,dropout,\n",
        "                            linear5).to(device)\n",
        "#맨 마지막 레이어에서는 relu는 빼준다."
      ],
      "execution_count": 0,
      "outputs": []
    },
    {
      "cell_type": "code",
      "metadata": {
        "id": "ccSI0IoygPAQ",
        "colab_type": "code",
        "colab": {}
      },
      "source": [
        "#손실함수와 최적화 함수 \n",
        "loss = torch.nn.CrossEntropyLoss().to(device) # 소프트맥스 내부적으로 계산 \n",
        "optimizer = torch.optim.Adam(model.parameters(),lr=learning_rate) "
      ],
      "execution_count": 0,
      "outputs": []
    },
    {
      "cell_type": "code",
      "metadata": {
        "id": "3wi_QG5Dgjhg",
        "colab_type": "code",
        "outputId": "74ab5303-37e0-4f45-cb7d-a6762db3ac61",
        "colab": {
          "base_uri": "https://localhost:8080/",
          "height": 1000
        }
      },
      "source": [
        "\n",
        "total_batch = len(data_loader)\n",
        "model.train() # drop_out= true\n",
        "for epoch in range(training_epochs):\n",
        "    avg_cost = 0\n",
        "\n",
        "    for X,Y in data_loader:\n",
        "      # (100,1,28,28) 크기의 텐서를 (100,784) 크기의 텐서로 변형 \n",
        "       X = X.view(-1,28*28).to(device) #reshape과 유사\n",
        "       # one - hot 인코딩 되어있지 않음 \n",
        "       Y = Y.to(device)\n",
        "\n",
        "       # 그레디언트 초기화\n",
        "       optimizer.zero_grad()\n",
        "       hypothesis = model(X)\n",
        "\n",
        "       cost = loss(hypothesis,Y) \n",
        "       cost.backward()\n",
        "       optimizer.step()\n",
        "\n",
        "       avg_cost += cost/total_batch\n",
        "\n",
        "    print('Epoch :','%04d' % (epoch+1),'cost=','{:.9f}'.format(avg_cost))\n",
        "print('Learning finished..!')"
      ],
      "execution_count": 283,
      "outputs": [
        {
          "output_type": "stream",
          "text": [
            "Epoch : 0001 cost= 9.880663872\n",
            "Epoch : 0002 cost= 1.839114547\n",
            "Epoch : 0003 cost= 1.044443727\n",
            "Epoch : 0004 cost= 0.732924700\n",
            "Epoch : 0005 cost= 0.575284123\n",
            "Epoch : 0006 cost= 0.464927405\n",
            "Epoch : 0007 cost= 0.395694345\n",
            "Epoch : 0008 cost= 0.336847603\n",
            "Epoch : 0009 cost= 0.296014965\n",
            "Epoch : 0010 cost= 0.262776673\n",
            "Epoch : 0011 cost= 0.233232498\n",
            "Epoch : 0012 cost= 0.210859716\n",
            "Epoch : 0013 cost= 0.188492045\n",
            "Epoch : 0014 cost= 0.163694307\n",
            "Epoch : 0015 cost= 0.153030246\n",
            "Epoch : 0016 cost= 0.140162721\n",
            "Epoch : 0017 cost= 0.129699826\n",
            "Epoch : 0018 cost= 0.118920758\n",
            "Epoch : 0019 cost= 0.109271824\n",
            "Epoch : 0020 cost= 0.101912305\n",
            "Epoch : 0021 cost= 0.093531877\n",
            "Epoch : 0022 cost= 0.088031881\n",
            "Epoch : 0023 cost= 0.083170332\n",
            "Epoch : 0024 cost= 0.075854741\n",
            "Epoch : 0025 cost= 0.071299292\n",
            "Epoch : 0026 cost= 0.064971887\n",
            "Epoch : 0027 cost= 0.064005941\n",
            "Epoch : 0028 cost= 0.058207151\n",
            "Epoch : 0029 cost= 0.059043184\n",
            "Epoch : 0030 cost= 0.052417383\n",
            "Epoch : 0031 cost= 0.049949266\n",
            "Epoch : 0032 cost= 0.048953287\n",
            "Epoch : 0033 cost= 0.044656716\n",
            "Epoch : 0034 cost= 0.043348867\n",
            "Epoch : 0035 cost= 0.040289152\n",
            "Epoch : 0036 cost= 0.040206179\n",
            "Epoch : 0037 cost= 0.038390260\n",
            "Epoch : 0038 cost= 0.036411077\n",
            "Epoch : 0039 cost= 0.034018427\n",
            "Epoch : 0040 cost= 0.033246052\n",
            "Epoch : 0041 cost= 0.034962963\n",
            "Epoch : 0042 cost= 0.033634722\n",
            "Epoch : 0043 cost= 0.029259212\n",
            "Epoch : 0044 cost= 0.030759675\n",
            "Epoch : 0045 cost= 0.030231677\n",
            "Epoch : 0046 cost= 0.025742594\n",
            "Epoch : 0047 cost= 0.028062087\n",
            "Epoch : 0048 cost= 0.024724523\n",
            "Epoch : 0049 cost= 0.027374869\n",
            "Epoch : 0050 cost= 0.024138704\n",
            "Epoch : 0051 cost= 0.025024919\n",
            "Epoch : 0052 cost= 0.025046123\n",
            "Epoch : 0053 cost= 0.022249224\n",
            "Epoch : 0054 cost= 0.021541419\n",
            "Epoch : 0055 cost= 0.022168066\n",
            "Epoch : 0056 cost= 0.022369156\n",
            "Epoch : 0057 cost= 0.021862144\n",
            "Epoch : 0058 cost= 0.020304771\n",
            "Epoch : 0059 cost= 0.018935559\n",
            "Epoch : 0060 cost= 0.020148112\n",
            "Epoch : 0061 cost= 0.019285312\n",
            "Epoch : 0062 cost= 0.019867469\n",
            "Epoch : 0063 cost= 0.021488978\n",
            "Epoch : 0064 cost= 0.014821981\n",
            "Epoch : 0065 cost= 0.017624220\n",
            "Epoch : 0066 cost= 0.017866576\n",
            "Epoch : 0067 cost= 0.017128190\n",
            "Epoch : 0068 cost= 0.014840179\n",
            "Epoch : 0069 cost= 0.014521921\n",
            "Epoch : 0070 cost= 0.016200649\n",
            "Epoch : 0071 cost= 0.017454138\n",
            "Epoch : 0072 cost= 0.015256518\n",
            "Epoch : 0073 cost= 0.016135141\n",
            "Epoch : 0074 cost= 0.017919412\n",
            "Epoch : 0075 cost= 0.018236512\n",
            "Epoch : 0076 cost= 0.015352417\n",
            "Epoch : 0077 cost= 0.014670311\n",
            "Epoch : 0078 cost= 0.015127824\n",
            "Epoch : 0079 cost= 0.014218059\n",
            "Epoch : 0080 cost= 0.014611390\n",
            "Epoch : 0081 cost= 0.014360721\n",
            "Epoch : 0082 cost= 0.014096960\n",
            "Epoch : 0083 cost= 0.016287396\n",
            "Epoch : 0084 cost= 0.011309704\n",
            "Epoch : 0085 cost= 0.016215021\n",
            "Epoch : 0086 cost= 0.013026674\n",
            "Epoch : 0087 cost= 0.014749215\n",
            "Epoch : 0088 cost= 0.015025099\n",
            "Epoch : 0089 cost= 0.012221147\n",
            "Epoch : 0090 cost= 0.014366066\n",
            "Epoch : 0091 cost= 0.012294952\n",
            "Epoch : 0092 cost= 0.011893971\n",
            "Epoch : 0093 cost= 0.012020666\n",
            "Epoch : 0094 cost= 0.013305135\n",
            "Epoch : 0095 cost= 0.013711387\n",
            "Epoch : 0096 cost= 0.012245002\n",
            "Epoch : 0097 cost= 0.013869759\n",
            "Epoch : 0098 cost= 0.013754160\n",
            "Epoch : 0099 cost= 0.012574789\n",
            "Epoch : 0100 cost= 0.010961518\n",
            "Learning finished..!\n"
          ],
          "name": "stdout"
        }
      ]
    },
    {
      "cell_type": "code",
      "metadata": {
        "id": "shkyWSL2iwtr",
        "colab_type": "code",
        "colab": {}
      },
      "source": [
        "\n",
        "with torch.no_grad():\n",
        "  model.eval()\n",
        "  x_test_data=test_data.loc[:,:]\n",
        "  x_test_data=np.array(x_test_data)\n",
        "  x_test_data=torch.from_numpy(x_test_data).float().to(device)\n",
        "\n",
        "  prediction = model(x_test_data)\n",
        "  correct_prediction = torch.argmax(prediction, 1)\n"
      ],
      "execution_count": 0,
      "outputs": []
    },
    {
      "cell_type": "code",
      "metadata": {
        "id": "o1UQsF1xcf9R",
        "colab_type": "code",
        "colab": {}
      },
      "source": [
        "correct_prediction = correct_prediction.cpu().numpy().reshape(-1,1)"
      ],
      "execution_count": 0,
      "outputs": []
    },
    {
      "cell_type": "code",
      "metadata": {
        "id": "_wf66bfXciFz",
        "colab_type": "code",
        "outputId": "69dd61f4-59df-47a3-a1fd-0349e741542c",
        "colab": {
          "base_uri": "https://localhost:8080/",
          "height": 419
        }
      },
      "source": [
        "submit=pd.read_csv('submission.csv')\n",
        "submit"
      ],
      "execution_count": 286,
      "outputs": [
        {
          "output_type": "execute_result",
          "data": {
            "text/html": [
              "<div>\n",
              "<style scoped>\n",
              "    .dataframe tbody tr th:only-of-type {\n",
              "        vertical-align: middle;\n",
              "    }\n",
              "\n",
              "    .dataframe tbody tr th {\n",
              "        vertical-align: top;\n",
              "    }\n",
              "\n",
              "    .dataframe thead th {\n",
              "        text-align: right;\n",
              "    }\n",
              "</style>\n",
              "<table border=\"1\" class=\"dataframe\">\n",
              "  <thead>\n",
              "    <tr style=\"text-align: right;\">\n",
              "      <th></th>\n",
              "      <th>id</th>\n",
              "      <th>Label</th>\n",
              "    </tr>\n",
              "  </thead>\n",
              "  <tbody>\n",
              "    <tr>\n",
              "      <th>0</th>\n",
              "      <td>0</td>\n",
              "      <td>1</td>\n",
              "    </tr>\n",
              "    <tr>\n",
              "      <th>1</th>\n",
              "      <td>1</td>\n",
              "      <td>1</td>\n",
              "    </tr>\n",
              "    <tr>\n",
              "      <th>2</th>\n",
              "      <td>2</td>\n",
              "      <td>1</td>\n",
              "    </tr>\n",
              "    <tr>\n",
              "      <th>3</th>\n",
              "      <td>3</td>\n",
              "      <td>1</td>\n",
              "    </tr>\n",
              "    <tr>\n",
              "      <th>4</th>\n",
              "      <td>4</td>\n",
              "      <td>1</td>\n",
              "    </tr>\n",
              "    <tr>\n",
              "      <th>...</th>\n",
              "      <td>...</td>\n",
              "      <td>...</td>\n",
              "    </tr>\n",
              "    <tr>\n",
              "      <th>9995</th>\n",
              "      <td>9995</td>\n",
              "      <td>1</td>\n",
              "    </tr>\n",
              "    <tr>\n",
              "      <th>9996</th>\n",
              "      <td>9996</td>\n",
              "      <td>1</td>\n",
              "    </tr>\n",
              "    <tr>\n",
              "      <th>9997</th>\n",
              "      <td>9997</td>\n",
              "      <td>1</td>\n",
              "    </tr>\n",
              "    <tr>\n",
              "      <th>9998</th>\n",
              "      <td>9998</td>\n",
              "      <td>1</td>\n",
              "    </tr>\n",
              "    <tr>\n",
              "      <th>9999</th>\n",
              "      <td>9999</td>\n",
              "      <td>1</td>\n",
              "    </tr>\n",
              "  </tbody>\n",
              "</table>\n",
              "<p>10000 rows × 2 columns</p>\n",
              "</div>"
            ],
            "text/plain": [
              "        id  Label\n",
              "0        0      1\n",
              "1        1      1\n",
              "2        2      1\n",
              "3        3      1\n",
              "4        4      1\n",
              "...    ...    ...\n",
              "9995  9995      1\n",
              "9996  9996      1\n",
              "9997  9997      1\n",
              "9998  9998      1\n",
              "9999  9999      1\n",
              "\n",
              "[10000 rows x 2 columns]"
            ]
          },
          "metadata": {
            "tags": []
          },
          "execution_count": 286
        }
      ]
    },
    {
      "cell_type": "code",
      "metadata": {
        "id": "hTKLoNvfckOb",
        "colab_type": "code",
        "outputId": "b739573d-a508-4667-b8c0-f705bb8dd17e",
        "colab": {
          "base_uri": "https://localhost:8080/",
          "height": 419
        }
      },
      "source": [
        "for i in range(len(correct_prediction)):\n",
        "  submit['Label'][i]=correct_prediction[i].item()\n",
        "\n",
        "submit"
      ],
      "execution_count": 287,
      "outputs": [
        {
          "output_type": "execute_result",
          "data": {
            "text/html": [
              "<div>\n",
              "<style scoped>\n",
              "    .dataframe tbody tr th:only-of-type {\n",
              "        vertical-align: middle;\n",
              "    }\n",
              "\n",
              "    .dataframe tbody tr th {\n",
              "        vertical-align: top;\n",
              "    }\n",
              "\n",
              "    .dataframe thead th {\n",
              "        text-align: right;\n",
              "    }\n",
              "</style>\n",
              "<table border=\"1\" class=\"dataframe\">\n",
              "  <thead>\n",
              "    <tr style=\"text-align: right;\">\n",
              "      <th></th>\n",
              "      <th>id</th>\n",
              "      <th>Label</th>\n",
              "    </tr>\n",
              "  </thead>\n",
              "  <tbody>\n",
              "    <tr>\n",
              "      <th>0</th>\n",
              "      <td>0</td>\n",
              "      <td>7</td>\n",
              "    </tr>\n",
              "    <tr>\n",
              "      <th>1</th>\n",
              "      <td>1</td>\n",
              "      <td>2</td>\n",
              "    </tr>\n",
              "    <tr>\n",
              "      <th>2</th>\n",
              "      <td>2</td>\n",
              "      <td>1</td>\n",
              "    </tr>\n",
              "    <tr>\n",
              "      <th>3</th>\n",
              "      <td>3</td>\n",
              "      <td>0</td>\n",
              "    </tr>\n",
              "    <tr>\n",
              "      <th>4</th>\n",
              "      <td>4</td>\n",
              "      <td>4</td>\n",
              "    </tr>\n",
              "    <tr>\n",
              "      <th>...</th>\n",
              "      <td>...</td>\n",
              "      <td>...</td>\n",
              "    </tr>\n",
              "    <tr>\n",
              "      <th>9995</th>\n",
              "      <td>9995</td>\n",
              "      <td>2</td>\n",
              "    </tr>\n",
              "    <tr>\n",
              "      <th>9996</th>\n",
              "      <td>9996</td>\n",
              "      <td>3</td>\n",
              "    </tr>\n",
              "    <tr>\n",
              "      <th>9997</th>\n",
              "      <td>9997</td>\n",
              "      <td>4</td>\n",
              "    </tr>\n",
              "    <tr>\n",
              "      <th>9998</th>\n",
              "      <td>9998</td>\n",
              "      <td>5</td>\n",
              "    </tr>\n",
              "    <tr>\n",
              "      <th>9999</th>\n",
              "      <td>9999</td>\n",
              "      <td>6</td>\n",
              "    </tr>\n",
              "  </tbody>\n",
              "</table>\n",
              "<p>10000 rows × 2 columns</p>\n",
              "</div>"
            ],
            "text/plain": [
              "        id  Label\n",
              "0        0      7\n",
              "1        1      2\n",
              "2        2      1\n",
              "3        3      0\n",
              "4        4      4\n",
              "...    ...    ...\n",
              "9995  9995      2\n",
              "9996  9996      3\n",
              "9997  9997      4\n",
              "9998  9998      5\n",
              "9999  9999      6\n",
              "\n",
              "[10000 rows x 2 columns]"
            ]
          },
          "metadata": {
            "tags": []
          },
          "execution_count": 287
        }
      ]
    },
    {
      "cell_type": "code",
      "metadata": {
        "id": "eI6-Ukb1cmyx",
        "colab_type": "code",
        "outputId": "d0d6b6d6-4d10-4eae-ce71-8fc0e7f4532c",
        "colab": {
          "base_uri": "https://localhost:8080/",
          "height": 51
        }
      },
      "source": [
        "submit.to_csv('submission_result.csv',index=False,header=True)\n",
        "\n",
        "!kaggle competitions submit -c 2020aimnist -f submission_result.csv -m \"14010974 이기택\""
      ],
      "execution_count": 288,
      "outputs": [
        {
          "output_type": "stream",
          "text": [
            "100% 67.3k/67.3k [00:03<00:00, 22.2kB/s]\n",
            "Successfully submitted to 2020.AI.MNIST"
          ],
          "name": "stdout"
        }
      ]
    }
  ]
}