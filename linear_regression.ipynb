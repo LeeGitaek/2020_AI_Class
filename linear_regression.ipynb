{
  "nbformat": 4,
  "nbformat_minor": 0,
  "metadata": {
    "colab": {
      "name": "ai_class.ipynb",
      "provenance": [],
      "authorship_tag": "ABX9TyOIIYkNlG4+NG9TJZTd88Eo",
      "include_colab_link": true
    },
    "kernelspec": {
      "name": "python3",
      "display_name": "Python 3"
    }
  },
  "cells": [
    {
      "cell_type": "markdown",
      "metadata": {
        "id": "view-in-github",
        "colab_type": "text"
      },
      "source": [
        "<a href=\"https://colab.research.google.com/github/LeeGitaek/2020_AI_Class/blob/master/linear_regression.ipynb\" target=\"_parent\"><img src=\"https://colab.research.google.com/assets/colab-badge.svg\" alt=\"Open In Colab\"/></a>"
      ]
    },
    {
      "cell_type": "markdown",
      "metadata": {
        "id": "d8L24t3y9DQY",
        "colab_type": "text"
      },
      "source": [
        "Imports\n"
      ]
    },
    {
      "cell_type": "code",
      "metadata": {
        "id": "wlJX1ENR6E2q",
        "colab_type": "code",
        "colab": {}
      },
      "source": [
        " import torch\n",
        " import torch.optim as optim"
      ],
      "execution_count": 0,
      "outputs": []
    },
    {
      "cell_type": "code",
      "metadata": {
        "id": "6wlbqZzW81hW",
        "colab_type": "code",
        "outputId": "88e90d87-dad1-41fc-d40e-3e57157d78ba",
        "colab": {
          "base_uri": "https://localhost:8080/",
          "height": 34
        }
      },
      "source": [
        "torch.manual_seed(1)"
      ],
      "execution_count": 0,
      "outputs": [
        {
          "output_type": "execute_result",
          "data": {
            "text/plain": [
              "<torch._C.Generator at 0x7fdee5a22eb0>"
            ]
          },
          "metadata": {
            "tags": []
          },
          "execution_count": 2
        }
      ]
    },
    {
      "cell_type": "code",
      "metadata": {
        "id": "FzuP0R-U8_f3",
        "colab_type": "code",
        "outputId": "50861afe-0177-48d1-89a2-ebf6801104c3",
        "colab": {
          "base_uri": "https://localhost:8080/",
          "height": 153
        }
      },
      "source": [
        "x_train = torch.FloatTensor([[1],[2],[3]])\n",
        "y_train = torch.FloatTensor([[1],[2],[3]])\n",
        "\n",
        "print(x_train)\n",
        "print(x_train.shape)\n",
        "\n",
        "print(y_train)\n",
        "print(y_train.shape)"
      ],
      "execution_count": 0,
      "outputs": [
        {
          "output_type": "stream",
          "text": [
            "tensor([[1.],\n",
            "        [2.],\n",
            "        [3.]])\n",
            "torch.Size([3, 1])\n",
            "tensor([[1.],\n",
            "        [2.],\n",
            "        [3.]])\n",
            "torch.Size([3, 1])\n"
          ],
          "name": "stdout"
        }
      ]
    },
    {
      "cell_type": "code",
      "metadata": {
        "id": "nt4SNY9k93AI",
        "colab_type": "code",
        "outputId": "6856599d-af26-43c7-c127-4e4220a2d3cf",
        "colab": {
          "base_uri": "https://localhost:8080/",
          "height": 34
        }
      },
      "source": [
        "w = torch.zeros(1,requires_grad=True)\n",
        "print(w)"
      ],
      "execution_count": 0,
      "outputs": [
        {
          "output_type": "stream",
          "text": [
            "tensor([0.], requires_grad=True)\n"
          ],
          "name": "stdout"
        }
      ]
    },
    {
      "cell_type": "code",
      "metadata": {
        "id": "YhEOBntH-Fdk",
        "colab_type": "code",
        "outputId": "1c104e2f-fcd4-4c63-8ed5-ab46de38581f",
        "colab": {
          "base_uri": "https://localhost:8080/",
          "height": 34
        }
      },
      "source": [
        "b = torch.zeros(1,requires_grad=True)\n",
        "print(b)\n"
      ],
      "execution_count": 0,
      "outputs": [
        {
          "output_type": "stream",
          "text": [
            "tensor([0.], requires_grad=True)\n"
          ],
          "name": "stdout"
        }
      ]
    },
    {
      "cell_type": "markdown",
      "metadata": {
        "id": "qzx2M80r-PjJ",
        "colab_type": "text"
      },
      "source": [
        "Hypothesis\n"
      ]
    },
    {
      "cell_type": "code",
      "metadata": {
        "id": "h7ReeGpT-OQZ",
        "colab_type": "code",
        "outputId": "590187fa-b9c9-4613-a079-b03d4e581ab2",
        "colab": {
          "base_uri": "https://localhost:8080/",
          "height": 68
        }
      },
      "source": [
        "hypothesis = x_train*w+b\n",
        "print(hypothesis)"
      ],
      "execution_count": 0,
      "outputs": [
        {
          "output_type": "stream",
          "text": [
            "tensor([[0.],\n",
            "        [0.],\n",
            "        [0.]], grad_fn=<AddBackward0>)\n"
          ],
          "name": "stdout"
        }
      ]
    },
    {
      "cell_type": "markdown",
      "metadata": {
        "id": "mv0pM2Q4-cnQ",
        "colab_type": "text"
      },
      "source": [
        "Cost\n"
      ]
    },
    {
      "cell_type": "code",
      "metadata": {
        "id": "56Ig5V0I-eMj",
        "colab_type": "code",
        "outputId": "66836435-375d-46fd-b892-09431dab0595",
        "colab": {
          "base_uri": "https://localhost:8080/",
          "height": 34
        }
      },
      "source": [
        "cost = torch.mean((hypothesis-y_train) **2)\n",
        "print(cost)\n"
      ],
      "execution_count": 0,
      "outputs": [
        {
          "output_type": "stream",
          "text": [
            "tensor(4.6667, grad_fn=<MeanBackward0>)\n"
          ],
          "name": "stdout"
        }
      ]
    },
    {
      "cell_type": "markdown",
      "metadata": {
        "id": "zZCN_3cs-u_5",
        "colab_type": "text"
      },
      "source": [
        "Gradient Descent\n"
      ]
    },
    {
      "cell_type": "code",
      "metadata": {
        "id": "lCfZyCCq-ysf",
        "colab_type": "code",
        "colab": {}
      },
      "source": [
        "\n",
        "optimizer = optim.SGD([w,b],lr=0.01)\n",
        "\n",
        "#옵티마이저 초기화\n",
        "optimizer.zero_grad()\n",
        "# cost 계산 \n",
        "cost.backward()\n",
        "# 옵티마이저 갱신 \n",
        "optimizer.step()"
      ],
      "execution_count": 0,
      "outputs": []
    },
    {
      "cell_type": "code",
      "metadata": {
        "id": "Viq7w-iZ_ZDp",
        "colab_type": "code",
        "outputId": "33fc209a-acfd-4e33-daf1-67ea1314a07c",
        "colab": {
          "base_uri": "https://localhost:8080/",
          "height": 51
        }
      },
      "source": [
        "print(w)\n",
        "print(b)\n"
      ],
      "execution_count": 0,
      "outputs": [
        {
          "output_type": "stream",
          "text": [
            "tensor([0.0933], requires_grad=True)\n",
            "tensor([0.0400], requires_grad=True)\n"
          ],
          "name": "stdout"
        }
      ]
    },
    {
      "cell_type": "code",
      "metadata": {
        "id": "FhtZoMjb_cTW",
        "colab_type": "code",
        "outputId": "913f97ef-24eb-4cc3-eaca-5ddb5bbd6137",
        "colab": {
          "base_uri": "https://localhost:8080/",
          "height": 68
        }
      },
      "source": [
        "hypothesis = x_train*w+b\n",
        "print(hypothesis)"
      ],
      "execution_count": 0,
      "outputs": [
        {
          "output_type": "stream",
          "text": [
            "tensor([[0.1333],\n",
            "        [0.2267],\n",
            "        [0.3200]], grad_fn=<AddBackward0>)\n"
          ],
          "name": "stdout"
        }
      ]
    },
    {
      "cell_type": "code",
      "metadata": {
        "id": "uk87YPsQ_i75",
        "colab_type": "code",
        "outputId": "854d58d5-ec63-47a1-ccf1-31573b8a0db2",
        "colab": {
          "base_uri": "https://localhost:8080/",
          "height": 34
        }
      },
      "source": [
        "cost = torch.mean((hypothesis - y_train)**2)\n",
        "print(cost)"
      ],
      "execution_count": 0,
      "outputs": [
        {
          "output_type": "stream",
          "text": [
            "tensor(3.6927, grad_fn=<MeanBackward0>)\n"
          ],
          "name": "stdout"
        }
      ]
    },
    {
      "cell_type": "code",
      "metadata": {
        "id": "Bb5lVFGy_ums",
        "colab_type": "code",
        "outputId": "94503b9d-b264-4512-9963-04664dc64d1b",
        "colab": {
          "base_uri": "https://localhost:8080/",
          "height": 221
        }
      },
      "source": [
        "x_train = torch.FloatTensor([[1],[2],[3]])\n",
        "y_train = torch.FloatTensor([[1],[2],[3]])\n",
        "\n",
        "w = torch.zeros(1,requires_grad=True)\n",
        "b = torch.zeros(1,requires_grad=True)\n",
        "\n",
        "optimizer = optim.SGD([w,b],lr=0.01)\n",
        "\n",
        "nb_epochs = 1000\n",
        "\n",
        "for epoch in range(nb_epochs + 1):\n",
        "    hypothesis = x_train*w+b\n",
        "\n",
        "    cost = torch.mean((hypothesis-y_train) **2)\n",
        "    #옵티마이저 초기화\n",
        "    optimizer.zero_grad()\n",
        "    # cost 계산 \n",
        "    cost.backward()\n",
        "    # 옵티마이저 갱신 \n",
        "    optimizer.step()\n",
        "\n",
        "    if epoch % 100 == 0:\n",
        "      print('epoch {:4d}/{} w:{:.3f} b:{:.3f} cost:{:.6f}'.format(\n",
        "          epoch,nb_epochs,w.item(),b.item(),cost.item()\n",
        "      ))\n",
        "\n",
        "\n",
        "print(w*7+b)"
      ],
      "execution_count": 0,
      "outputs": [
        {
          "output_type": "stream",
          "text": [
            "epoch    0/1000 w:0.093 b:0.040 cost:4.666667\n",
            "epoch  100/1000 w:0.873 b:0.289 cost:0.012043\n",
            "epoch  200/1000 w:0.900 b:0.227 cost:0.007442\n",
            "epoch  300/1000 w:0.921 b:0.179 cost:0.004598\n",
            "epoch  400/1000 w:0.938 b:0.140 cost:0.002842\n",
            "epoch  500/1000 w:0.951 b:0.110 cost:0.001756\n",
            "epoch  600/1000 w:0.962 b:0.087 cost:0.001085\n",
            "epoch  700/1000 w:0.970 b:0.068 cost:0.000670\n",
            "epoch  800/1000 w:0.976 b:0.054 cost:0.000414\n",
            "epoch  900/1000 w:0.981 b:0.042 cost:0.000256\n",
            "epoch 1000/1000 w:0.985 b:0.033 cost:0.000158\n",
            "tensor([6.9311], grad_fn=<AddBackward0>)\n"
          ],
          "name": "stdout"
        }
      ]
    },
    {
      "cell_type": "markdown",
      "metadata": {
        "id": "icmXrZ6HBCN5",
        "colab_type": "text"
      },
      "source": [
        "Minimizing_Cost\n"
      ]
    },
    {
      "cell_type": "code",
      "metadata": {
        "id": "sdD6SZEGBBTQ",
        "colab_type": "code",
        "colab": {}
      },
      "source": [
        "import matplotlib.pyplot as plt\n",
        "import numpy as np\n",
        "import torch\n",
        "import torch.optim as optim"
      ],
      "execution_count": 0,
      "outputs": []
    },
    {
      "cell_type": "code",
      "metadata": {
        "id": "mEyCrcQ0BXc4",
        "colab_type": "code",
        "outputId": "ca074f07-6dc0-4b66-f922-3c6297b55e4a",
        "colab": {
          "base_uri": "https://localhost:8080/",
          "height": 34
        }
      },
      "source": [
        "torch.manual_seed(1)"
      ],
      "execution_count": 0,
      "outputs": [
        {
          "output_type": "execute_result",
          "data": {
            "text/plain": [
              "<torch._C.Generator at 0x7fdee5a22eb0>"
            ]
          },
          "metadata": {
            "tags": []
          },
          "execution_count": 16
        }
      ]
    },
    {
      "cell_type": "code",
      "metadata": {
        "id": "YewrSLEEBckB",
        "colab_type": "code",
        "colab": {}
      },
      "source": [
        "x_train = torch.FloatTensor([[1],[2],[3]])\n",
        "y_train = torch.FloatTensor([[1],[2],[3]])"
      ],
      "execution_count": 0,
      "outputs": []
    },
    {
      "cell_type": "code",
      "metadata": {
        "id": "a7Q6L0SqBiOA",
        "colab_type": "code",
        "outputId": "78446383-36fc-4663-e10d-48720edf9653",
        "colab": {
          "base_uri": "https://localhost:8080/",
          "height": 282
        }
      },
      "source": [
        "plt.scatter(x_train,y_train)\n",
        "#best fit line dvd by 1000 \n",
        "xs = np.linspace(1,3,1000)\n",
        "plt.plot(xs,xs)"
      ],
      "execution_count": 0,
      "outputs": [
        {
          "output_type": "execute_result",
          "data": {
            "text/plain": [
              "[<matplotlib.lines.Line2D at 0x7fdee3f87400>]"
            ]
          },
          "metadata": {
            "tags": []
          },
          "execution_count": 18
        },
        {
          "output_type": "display_data",
          "data": {
            "image/png": "[encoded data removed]",
            "text/plain": [
              "<Figure size 432x288 with 1 Axes>"
            ]
          },
          "metadata": {
            "tags": [],
            "needs_background": "light"
          }
        }
      ]
    },
    {
      "cell_type": "code",
      "metadata": {
        "id": "DCJPAqatB08m",
        "colab_type": "code",
        "outputId": "169282d6-3292-4e5d-dd43-506ece481f40",
        "colab": {
          "base_uri": "https://localhost:8080/",
          "height": 1000
        }
      },
      "source": [
        "print(xs)"
      ],
      "execution_count": 0,
      "outputs": [
        {
          "output_type": "stream",
          "text": [
            "[1.         1.002002   1.004004   1.00600601 1.00800801 1.01001001\n",
            " 1.01201201 1.01401401 1.01601602 1.01801802 1.02002002 1.02202202\n",
            " 1.02402402 1.02602603 1.02802803 1.03003003 1.03203203 1.03403403\n",
            " 1.03603604 1.03803804 1.04004004 1.04204204 1.04404404 1.04604605\n",
            " 1.04804805 1.05005005 1.05205205 1.05405405 1.05605606 1.05805806\n",
            " 1.06006006 1.06206206 1.06406406 1.06606607 1.06806807 1.07007007\n",
            " 1.07207207 1.07407407 1.07607608 1.07807808 1.08008008 1.08208208\n",
            " 1.08408408 1.08608609 1.08808809 1.09009009 1.09209209 1.09409409\n",
            " 1.0960961  1.0980981  1.1001001  1.1021021  1.1041041  1.10610611\n",
            " 1.10810811 1.11011011 1.11211211 1.11411411 1.11611612 1.11811812\n",
            " 1.12012012 1.12212212 1.12412412 1.12612613 1.12812813 1.13013013\n",
            " 1.13213213 1.13413413 1.13613614 1.13813814 1.14014014 1.14214214\n",
            " 1.14414414 1.14614615 1.14814815 1.15015015 1.15215215 1.15415415\n",
            " 1.15615616 1.15815816 1.16016016 1.16216216 1.16416416 1.16616617\n",
            " 1.16816817 1.17017017 1.17217217 1.17417417 1.17617618 1.17817818\n",
            " 1.18018018 1.18218218 1.18418418 1.18618619 1.18818819 1.19019019\n",
            " 1.19219219 1.19419419 1.1961962  1.1981982  1.2002002  1.2022022\n",
            " 1.2042042  1.20620621 1.20820821 1.21021021 1.21221221 1.21421421\n",
            " 1.21621622 1.21821822 1.22022022 1.22222222 1.22422422 1.22622623\n",
            " 1.22822823 1.23023023 1.23223223 1.23423423 1.23623624 1.23823824\n",
            " 1.24024024 1.24224224 1.24424424 1.24624625 1.24824825 1.25025025\n",
            " 1.25225225 1.25425425 1.25625626 1.25825826 1.26026026 1.26226226\n",
            " 1.26426426 1.26626627 1.26826827 1.27027027 1.27227227 1.27427427\n",
            " 1.27627628 1.27827828 1.28028028 1.28228228 1.28428428 1.28628629\n",
            " 1.28828829 1.29029029 1.29229229 1.29429429 1.2962963  1.2982983\n",
            " 1.3003003  1.3023023  1.3043043  1.30630631 1.30830831 1.31031031\n",
            " 1.31231231 1.31431431 1.31631632 1.31831832 1.32032032 1.32232232\n",
            " 1.32432432 1.32632633 1.32832833 1.33033033 1.33233233 1.33433433\n",
            " 1.33633634 1.33833834 1.34034034 1.34234234 1.34434434 1.34634635\n",
            " 1.34834835 1.35035035 1.35235235 1.35435435 1.35635636 1.35835836\n",
            " 1.36036036 1.36236236 1.36436436 1.36636637 1.36836837 1.37037037\n",
            " 1.37237237 1.37437437 1.37637638 1.37837838 1.38038038 1.38238238\n",
            " 1.38438438 1.38638639 1.38838839 1.39039039 1.39239239 1.39439439\n",
            " 1.3963964  1.3983984  1.4004004  1.4024024  1.4044044  1.40640641\n",
            " 1.40840841 1.41041041 1.41241241 1.41441441 1.41641642 1.41841842\n",
            " 1.42042042 1.42242242 1.42442442 1.42642643 1.42842843 1.43043043\n",
            " 1.43243243 1.43443443 1.43643644 1.43843844 1.44044044 1.44244244\n",
            " 1.44444444 1.44644645 1.44844845 1.45045045 1.45245245 1.45445445\n",
            " 1.45645646 1.45845846 1.46046046 1.46246246 1.46446446 1.46646647\n",
            " 1.46846847 1.47047047 1.47247247 1.47447447 1.47647648 1.47847848\n",
            " 1.48048048 1.48248248 1.48448448 1.48648649 1.48848849 1.49049049\n",
            " 1.49249249 1.49449449 1.4964965  1.4984985  1.5005005  1.5025025\n",
            " 1.5045045  1.50650651 1.50850851 1.51051051 1.51251251 1.51451451\n",
            " 1.51651652 1.51851852 1.52052052 1.52252252 1.52452452 1.52652653\n",
            " 1.52852853 1.53053053 1.53253253 1.53453453 1.53653654 1.53853854\n",
            " 1.54054054 1.54254254 1.54454454 1.54654655 1.54854855 1.55055055\n",
            " 1.55255255 1.55455455 1.55655656 1.55855856 1.56056056 1.56256256\n",
            " 1.56456456 1.56656657 1.56856857 1.57057057 1.57257257 1.57457457\n",
            " 1.57657658 1.57857858 1.58058058 1.58258258 1.58458458 1.58658659\n",
            " 1.58858859 1.59059059 1.59259259 1.59459459 1.5965966  1.5985986\n",
            " 1.6006006  1.6026026  1.6046046  1.60660661 1.60860861 1.61061061\n",
            " 1.61261261 1.61461461 1.61661662 1.61861862 1.62062062 1.62262262\n",
            " 1.62462462 1.62662663 1.62862863 1.63063063 1.63263263 1.63463463\n",
            " 1.63663664 1.63863864 1.64064064 1.64264264 1.64464464 1.64664665\n",
            " 1.64864865 1.65065065 1.65265265 1.65465465 1.65665666 1.65865866\n",
            " 1.66066066 1.66266266 1.66466466 1.66666667 1.66866867 1.67067067\n",
            " 1.67267267 1.67467467 1.67667668 1.67867868 1.68068068 1.68268268\n",
            " 1.68468468 1.68668669 1.68868869 1.69069069 1.69269269 1.69469469\n",
            " 1.6966967  1.6986987  1.7007007  1.7027027  1.7047047  1.70670671\n",
            " 1.70870871 1.71071071 1.71271271 1.71471471 1.71671672 1.71871872\n",
            " 1.72072072 1.72272272 1.72472472 1.72672673 1.72872873 1.73073073\n",
            " 1.73273273 1.73473473 1.73673674 1.73873874 1.74074074 1.74274274\n",
            " 1.74474474 1.74674675 1.74874875 1.75075075 1.75275275 1.75475475\n",
            " 1.75675676 1.75875876 1.76076076 1.76276276 1.76476476 1.76676677\n",
            " 1.76876877 1.77077077 1.77277277 1.77477477 1.77677678 1.77877878\n",
            " 1.78078078 1.78278278 1.78478478 1.78678679 1.78878879 1.79079079\n",
            " 1.79279279 1.79479479 1.7967968  1.7987988  1.8008008  1.8028028\n",
            " 1.8048048  1.80680681 1.80880881 1.81081081 1.81281281 1.81481481\n",
            " 1.81681682 1.81881882 1.82082082 1.82282282 1.82482482 1.82682683\n",
            " 1.82882883 1.83083083 1.83283283 1.83483483 1.83683684 1.83883884\n",
            " 1.84084084 1.84284284 1.84484484 1.84684685 1.84884885 1.85085085\n",
            " 1.85285285 1.85485485 1.85685686 1.85885886 1.86086086 1.86286286\n",
            " 1.86486486 1.86686687 1.86886887 1.87087087 1.87287287 1.87487487\n",
            " 1.87687688 1.87887888 1.88088088 1.88288288 1.88488488 1.88688689\n",
            " 1.88888889 1.89089089 1.89289289 1.89489489 1.8968969  1.8988989\n",
            " 1.9009009  1.9029029  1.9049049  1.90690691 1.90890891 1.91091091\n",
            " 1.91291291 1.91491491 1.91691692 1.91891892 1.92092092 1.92292292\n",
            " 1.92492492 1.92692693 1.92892893 1.93093093 1.93293293 1.93493493\n",
            " 1.93693694 1.93893894 1.94094094 1.94294294 1.94494494 1.94694695\n",
            " 1.94894895 1.95095095 1.95295295 1.95495495 1.95695696 1.95895896\n",
            " 1.96096096 1.96296296 1.96496496 1.96696697 1.96896897 1.97097097\n",
            " 1.97297297 1.97497497 1.97697698 1.97897898 1.98098098 1.98298298\n",
            " 1.98498498 1.98698699 1.98898899 1.99099099 1.99299299 1.99499499\n",
            " 1.996997   1.998999   2.001001   2.003003   2.00500501 2.00700701\n",
            " 2.00900901 2.01101101 2.01301301 2.01501502 2.01701702 2.01901902\n",
            " 2.02102102 2.02302302 2.02502503 2.02702703 2.02902903 2.03103103\n",
            " 2.03303303 2.03503504 2.03703704 2.03903904 2.04104104 2.04304304\n",
            " 2.04504505 2.04704705 2.04904905 2.05105105 2.05305305 2.05505506\n",
            " 2.05705706 2.05905906 2.06106106 2.06306306 2.06506507 2.06706707\n",
            " 2.06906907 2.07107107 2.07307307 2.07507508 2.07707708 2.07907908\n",
            " 2.08108108 2.08308308 2.08508509 2.08708709 2.08908909 2.09109109\n",
            " 2.09309309 2.0950951  2.0970971  2.0990991  2.1011011  2.1031031\n",
            " 2.10510511 2.10710711 2.10910911 2.11111111 2.11311311 2.11511512\n",
            " 2.11711712 2.11911912 2.12112112 2.12312312 2.12512513 2.12712713\n",
            " 2.12912913 2.13113113 2.13313313 2.13513514 2.13713714 2.13913914\n",
            " 2.14114114 2.14314314 2.14514515 2.14714715 2.14914915 2.15115115\n",
            " 2.15315315 2.15515516 2.15715716 2.15915916 2.16116116 2.16316316\n",
            " 2.16516517 2.16716717 2.16916917 2.17117117 2.17317317 2.17517518\n",
            " 2.17717718 2.17917918 2.18118118 2.18318318 2.18518519 2.18718719\n",
            " 2.18918919 2.19119119 2.19319319 2.1951952  2.1971972  2.1991992\n",
            " 2.2012012  2.2032032  2.20520521 2.20720721 2.20920921 2.21121121\n",
            " 2.21321321 2.21521522 2.21721722 2.21921922 2.22122122 2.22322322\n",
            " 2.22522523 2.22722723 2.22922923 2.23123123 2.23323323 2.23523524\n",
            " 2.23723724 2.23923924 2.24124124 2.24324324 2.24524525 2.24724725\n",
            " 2.24924925 2.25125125 2.25325325 2.25525526 2.25725726 2.25925926\n",
            " 2.26126126 2.26326326 2.26526527 2.26726727 2.26926927 2.27127127\n",
            " 2.27327327 2.27527528 2.27727728 2.27927928 2.28128128 2.28328328\n",
            " 2.28528529 2.28728729 2.28928929 2.29129129 2.29329329 2.2952953\n",
            " 2.2972973  2.2992993  2.3013013  2.3033033  2.30530531 2.30730731\n",
            " 2.30930931 2.31131131 2.31331331 2.31531532 2.31731732 2.31931932\n",
            " 2.32132132 2.32332332 2.32532533 2.32732733 2.32932933 2.33133133\n",
            " 2.33333333 2.33533534 2.33733734 2.33933934 2.34134134 2.34334334\n",
            " 2.34534535 2.34734735 2.34934935 2.35135135 2.35335335 2.35535536\n",
            " 2.35735736 2.35935936 2.36136136 2.36336336 2.36536537 2.36736737\n",
            " 2.36936937 2.37137137 2.37337337 2.37537538 2.37737738 2.37937938\n",
            " 2.38138138 2.38338338 2.38538539 2.38738739 2.38938939 2.39139139\n",
            " 2.39339339 2.3953954  2.3973974  2.3993994  2.4014014  2.4034034\n",
            " 2.40540541 2.40740741 2.40940941 2.41141141 2.41341341 2.41541542\n",
            " 2.41741742 2.41941942 2.42142142 2.42342342 2.42542543 2.42742743\n",
            " 2.42942943 2.43143143 2.43343343 2.43543544 2.43743744 2.43943944\n",
            " 2.44144144 2.44344344 2.44544545 2.44744745 2.44944945 2.45145145\n",
            " 2.45345345 2.45545546 2.45745746 2.45945946 2.46146146 2.46346346\n",
            " 2.46546547 2.46746747 2.46946947 2.47147147 2.47347347 2.47547548\n",
            " 2.47747748 2.47947948 2.48148148 2.48348348 2.48548549 2.48748749\n",
            " 2.48948949 2.49149149 2.49349349 2.4954955  2.4974975  2.4994995\n",
            " 2.5015015  2.5035035  2.50550551 2.50750751 2.50950951 2.51151151\n",
            " 2.51351351 2.51551552 2.51751752 2.51951952 2.52152152 2.52352352\n",
            " 2.52552553 2.52752753 2.52952953 2.53153153 2.53353353 2.53553554\n",
            " 2.53753754 2.53953954 2.54154154 2.54354354 2.54554555 2.54754755\n",
            " 2.54954955 2.55155155 2.55355355 2.55555556 2.55755756 2.55955956\n",
            " 2.56156156 2.56356356 2.56556557 2.56756757 2.56956957 2.57157157\n",
            " 2.57357357 2.57557558 2.57757758 2.57957958 2.58158158 2.58358358\n",
            " 2.58558559 2.58758759 2.58958959 2.59159159 2.59359359 2.5955956\n",
            " 2.5975976  2.5995996  2.6016016  2.6036036  2.60560561 2.60760761\n",
            " 2.60960961 2.61161161 2.61361361 2.61561562 2.61761762 2.61961962\n",
            " 2.62162162 2.62362362 2.62562563 2.62762763 2.62962963 2.63163163\n",
            " 2.63363363 2.63563564 2.63763764 2.63963964 2.64164164 2.64364364\n",
            " 2.64564565 2.64764765 2.64964965 2.65165165 2.65365365 2.65565566\n",
            " 2.65765766 2.65965966 2.66166166 2.66366366 2.66566567 2.66766767\n",
            " 2.66966967 2.67167167 2.67367367 2.67567568 2.67767768 2.67967968\n",
            " 2.68168168 2.68368368 2.68568569 2.68768769 2.68968969 2.69169169\n",
            " 2.69369369 2.6956957  2.6976977  2.6996997  2.7017017  2.7037037\n",
            " 2.70570571 2.70770771 2.70970971 2.71171171 2.71371371 2.71571572\n",
            " 2.71771772 2.71971972 2.72172172 2.72372372 2.72572573 2.72772773\n",
            " 2.72972973 2.73173173 2.73373373 2.73573574 2.73773774 2.73973974\n",
            " 2.74174174 2.74374374 2.74574575 2.74774775 2.74974975 2.75175175\n",
            " 2.75375375 2.75575576 2.75775776 2.75975976 2.76176176 2.76376376\n",
            " 2.76576577 2.76776777 2.76976977 2.77177177 2.77377377 2.77577578\n",
            " 2.77777778 2.77977978 2.78178178 2.78378378 2.78578579 2.78778779\n",
            " 2.78978979 2.79179179 2.79379379 2.7957958  2.7977978  2.7997998\n",
            " 2.8018018  2.8038038  2.80580581 2.80780781 2.80980981 2.81181181\n",
            " 2.81381381 2.81581582 2.81781782 2.81981982 2.82182182 2.82382382\n",
            " 2.82582583 2.82782783 2.82982983 2.83183183 2.83383383 2.83583584\n",
            " 2.83783784 2.83983984 2.84184184 2.84384384 2.84584585 2.84784785\n",
            " 2.84984985 2.85185185 2.85385385 2.85585586 2.85785786 2.85985986\n",
            " 2.86186186 2.86386386 2.86586587 2.86786787 2.86986987 2.87187187\n",
            " 2.87387387 2.87587588 2.87787788 2.87987988 2.88188188 2.88388388\n",
            " 2.88588589 2.88788789 2.88988989 2.89189189 2.89389389 2.8958959\n",
            " 2.8978979  2.8998999  2.9019019  2.9039039  2.90590591 2.90790791\n",
            " 2.90990991 2.91191191 2.91391391 2.91591592 2.91791792 2.91991992\n",
            " 2.92192192 2.92392392 2.92592593 2.92792793 2.92992993 2.93193193\n",
            " 2.93393393 2.93593594 2.93793794 2.93993994 2.94194194 2.94394394\n",
            " 2.94594595 2.94794795 2.94994995 2.95195195 2.95395395 2.95595596\n",
            " 2.95795796 2.95995996 2.96196196 2.96396396 2.96596597 2.96796797\n",
            " 2.96996997 2.97197197 2.97397397 2.97597598 2.97797798 2.97997998\n",
            " 2.98198198 2.98398398 2.98598599 2.98798799 2.98998999 2.99199199\n",
            " 2.99399399 2.995996   2.997998   3.        ]\n"
          ],
          "name": "stdout"
        }
      ]
    },
    {
      "cell_type": "markdown",
      "metadata": {
        "id": "rUJ2JrD4B-xT",
        "colab_type": "text"
      },
      "source": [
        "cost by w"
      ]
    },
    {
      "cell_type": "code",
      "metadata": {
        "id": "Vhy-VwatB99k",
        "colab_type": "code",
        "colab": {}
      },
      "source": [
        "#list <= 순차적으로 데이터를 담는 추상자료형 \n",
        "w_l = np.linspace(-5,7,1000)\n",
        "cost_l = []\n",
        "\n",
        "for w in w_l:\n",
        "    hypothesis = w*x_train\n",
        "    cost = torch.mean((hypothesis-y_train)**2)\n",
        "    cost_l.append(cost.item())\n",
        "    "
      ],
      "execution_count": 0,
      "outputs": []
    },
    {
      "cell_type": "code",
      "metadata": {
        "id": "2-ZlQhpRCbDU",
        "colab_type": "code",
        "outputId": "3c19fdcd-fae7-466b-f710-74b6b5f865be",
        "colab": {
          "base_uri": "https://localhost:8080/",
          "height": 282
        }
      },
      "source": [
        "plt.plot(w_l,cost_l)\n",
        "plt.xlabel('$w$')\n",
        "plt.ylabel('cost')\n",
        "plt.show()"
      ],
      "execution_count": 0,
      "outputs": [
        {
          "output_type": "display_data",
          "data": {
            "image/png": "[encoded data removed]",
            "text/plain": [
              "<Figure size 432x288 with 1 Axes>"
            ]
          },
          "metadata": {
            "tags": [],
            "needs_background": "light"
          }
        }
      ]
    },
    {
      "cell_type": "code",
      "metadata": {
        "id": "2c06ieUuCkh5",
        "colab_type": "code",
        "outputId": "1a5b8503-e0a4-46f2-f1b2-389e9fea82fb",
        "colab": {
          "base_uri": "https://localhost:8080/",
          "height": 282
        }
      },
      "source": [
        "plt.plot(w_l,cost_l)\n",
        "plt.xlabel('w')\n",
        "plt.ylabel('cost')\n",
        "plt.show()"
      ],
      "execution_count": 0,
      "outputs": [
        {
          "output_type": "display_data",
          "data": {
            "image/png": "[encoded data removed]",
            "text/plain": [
              "<Figure size 432x288 with 1 Axes>"
            ]
          },
          "metadata": {
            "tags": [],
            "needs_background": "light"
          }
        }
      ]
    },
    {
      "cell_type": "code",
      "metadata": {
        "id": "yE5G7xJ9CtHg",
        "colab_type": "code",
        "colab": {}
      },
      "source": [
        "w = 0"
      ],
      "execution_count": 0,
      "outputs": []
    },
    {
      "cell_type": "code",
      "metadata": {
        "id": "kLzNRdyzC2N3",
        "colab_type": "code",
        "outputId": "cab4e85a-079b-4b84-b825-ea31fb215559",
        "colab": {
          "base_uri": "https://localhost:8080/",
          "height": 34
        }
      },
      "source": [
        "gradient = torch.sum((w*x_train-y_train)*x_train)\n",
        "print(gradient)\n"
      ],
      "execution_count": 0,
      "outputs": [
        {
          "output_type": "stream",
          "text": [
            "tensor(-14.)\n"
          ],
          "name": "stdout"
        }
      ]
    },
    {
      "cell_type": "code",
      "metadata": {
        "id": "mHqdvW2mDCvr",
        "colab_type": "code",
        "outputId": "805b2f60-7b6f-40fe-a540-6cb33b6b3cd4",
        "colab": {
          "base_uri": "https://localhost:8080/",
          "height": 34
        }
      },
      "source": [
        "lr = 0.1\n",
        "w -=lr*gradient\n",
        "print(w)"
      ],
      "execution_count": 0,
      "outputs": [
        {
          "output_type": "stream",
          "text": [
            "tensor(1.4000)\n"
          ],
          "name": "stdout"
        }
      ]
    },
    {
      "cell_type": "code",
      "metadata": {
        "id": "qxahejLODQgr",
        "colab_type": "code",
        "outputId": "64255bac-db30-40d1-a3f7-86a0929f1aaf",
        "colab": {
          "base_uri": "https://localhost:8080/",
          "height": 1000
        }
      },
      "source": [
        "x_train = torch.FloatTensor([[1],[2],[3]])\n",
        "y_train = torch.FloatTensor([[1],[2],[3]])\n",
        "\n",
        "w = torch.zeros(1)\n",
        "\n",
        "lr = 0.1\n",
        "\n",
        "nb_epochs = 100\n",
        "for epoch in range(nb_epochs+1):\n",
        "    # H(x) 계산 \n",
        "    hypothesis = x_train*w\n",
        "\n",
        "    cost = torch.mean((hypothesis-y_train)**2)\n",
        "    gradient = torch.sum((w*x_train-y_train)*x_train)\n",
        "\n",
        "    print('epoch {:4d}/{} w:{:.3f} , cost : {:.6f}'.format(\n",
        "        epoch,nb_epochs,w.item(),cost.item()\n",
        "    ))\n",
        "\n",
        "    w-=lr*gradient\n",
        "\n",
        "print(w*5+b)"
      ],
      "execution_count": 0,
      "outputs": [
        {
          "output_type": "stream",
          "text": [
            "epoch    0/100 w:0.000 , cost : 4.666667\n",
            "epoch    1/100 w:1.400 , cost : 0.746666\n",
            "epoch    2/100 w:0.840 , cost : 0.119467\n",
            "epoch    3/100 w:1.064 , cost : 0.019115\n",
            "epoch    4/100 w:0.974 , cost : 0.003058\n",
            "epoch    5/100 w:1.010 , cost : 0.000489\n",
            "epoch    6/100 w:0.996 , cost : 0.000078\n",
            "epoch    7/100 w:1.002 , cost : 0.000013\n",
            "epoch    8/100 w:0.999 , cost : 0.000002\n",
            "epoch    9/100 w:1.000 , cost : 0.000000\n",
            "epoch   10/100 w:1.000 , cost : 0.000000\n",
            "epoch   11/100 w:1.000 , cost : 0.000000\n",
            "epoch   12/100 w:1.000 , cost : 0.000000\n",
            "epoch   13/100 w:1.000 , cost : 0.000000\n",
            "epoch   14/100 w:1.000 , cost : 0.000000\n",
            "epoch   15/100 w:1.000 , cost : 0.000000\n",
            "epoch   16/100 w:1.000 , cost : 0.000000\n",
            "epoch   17/100 w:1.000 , cost : 0.000000\n",
            "epoch   18/100 w:1.000 , cost : 0.000000\n",
            "epoch   19/100 w:1.000 , cost : 0.000000\n",
            "epoch   20/100 w:1.000 , cost : 0.000000\n",
            "epoch   21/100 w:1.000 , cost : 0.000000\n",
            "epoch   22/100 w:1.000 , cost : 0.000000\n",
            "epoch   23/100 w:1.000 , cost : 0.000000\n",
            "epoch   24/100 w:1.000 , cost : 0.000000\n",
            "epoch   25/100 w:1.000 , cost : 0.000000\n",
            "epoch   26/100 w:1.000 , cost : 0.000000\n",
            "epoch   27/100 w:1.000 , cost : 0.000000\n",
            "epoch   28/100 w:1.000 , cost : 0.000000\n",
            "epoch   29/100 w:1.000 , cost : 0.000000\n",
            "epoch   30/100 w:1.000 , cost : 0.000000\n",
            "epoch   31/100 w:1.000 , cost : 0.000000\n",
            "epoch   32/100 w:1.000 , cost : 0.000000\n",
            "epoch   33/100 w:1.000 , cost : 0.000000\n",
            "epoch   34/100 w:1.000 , cost : 0.000000\n",
            "epoch   35/100 w:1.000 , cost : 0.000000\n",
            "epoch   36/100 w:1.000 , cost : 0.000000\n",
            "epoch   37/100 w:1.000 , cost : 0.000000\n",
            "epoch   38/100 w:1.000 , cost : 0.000000\n",
            "epoch   39/100 w:1.000 , cost : 0.000000\n",
            "epoch   40/100 w:1.000 , cost : 0.000000\n",
            "epoch   41/100 w:1.000 , cost : 0.000000\n",
            "epoch   42/100 w:1.000 , cost : 0.000000\n",
            "epoch   43/100 w:1.000 , cost : 0.000000\n",
            "epoch   44/100 w:1.000 , cost : 0.000000\n",
            "epoch   45/100 w:1.000 , cost : 0.000000\n",
            "epoch   46/100 w:1.000 , cost : 0.000000\n",
            "epoch   47/100 w:1.000 , cost : 0.000000\n",
            "epoch   48/100 w:1.000 , cost : 0.000000\n",
            "epoch   49/100 w:1.000 , cost : 0.000000\n",
            "epoch   50/100 w:1.000 , cost : 0.000000\n",
            "epoch   51/100 w:1.000 , cost : 0.000000\n",
            "epoch   52/100 w:1.000 , cost : 0.000000\n",
            "epoch   53/100 w:1.000 , cost : 0.000000\n",
            "epoch   54/100 w:1.000 , cost : 0.000000\n",
            "epoch   55/100 w:1.000 , cost : 0.000000\n",
            "epoch   56/100 w:1.000 , cost : 0.000000\n",
            "epoch   57/100 w:1.000 , cost : 0.000000\n",
            "epoch   58/100 w:1.000 , cost : 0.000000\n",
            "epoch   59/100 w:1.000 , cost : 0.000000\n",
            "epoch   60/100 w:1.000 , cost : 0.000000\n",
            "epoch   61/100 w:1.000 , cost : 0.000000\n",
            "epoch   62/100 w:1.000 , cost : 0.000000\n",
            "epoch   63/100 w:1.000 , cost : 0.000000\n",
            "epoch   64/100 w:1.000 , cost : 0.000000\n",
            "epoch   65/100 w:1.000 , cost : 0.000000\n",
            "epoch   66/100 w:1.000 , cost : 0.000000\n",
            "epoch   67/100 w:1.000 , cost : 0.000000\n",
            "epoch   68/100 w:1.000 , cost : 0.000000\n",
            "epoch   69/100 w:1.000 , cost : 0.000000\n",
            "epoch   70/100 w:1.000 , cost : 0.000000\n",
            "epoch   71/100 w:1.000 , cost : 0.000000\n",
            "epoch   72/100 w:1.000 , cost : 0.000000\n",
            "epoch   73/100 w:1.000 , cost : 0.000000\n",
            "epoch   74/100 w:1.000 , cost : 0.000000\n",
            "epoch   75/100 w:1.000 , cost : 0.000000\n",
            "epoch   76/100 w:1.000 , cost : 0.000000\n",
            "epoch   77/100 w:1.000 , cost : 0.000000\n",
            "epoch   78/100 w:1.000 , cost : 0.000000\n",
            "epoch   79/100 w:1.000 , cost : 0.000000\n",
            "epoch   80/100 w:1.000 , cost : 0.000000\n",
            "epoch   81/100 w:1.000 , cost : 0.000000\n",
            "epoch   82/100 w:1.000 , cost : 0.000000\n",
            "epoch   83/100 w:1.000 , cost : 0.000000\n",
            "epoch   84/100 w:1.000 , cost : 0.000000\n",
            "epoch   85/100 w:1.000 , cost : 0.000000\n",
            "epoch   86/100 w:1.000 , cost : 0.000000\n",
            "epoch   87/100 w:1.000 , cost : 0.000000\n",
            "epoch   88/100 w:1.000 , cost : 0.000000\n",
            "epoch   89/100 w:1.000 , cost : 0.000000\n",
            "epoch   90/100 w:1.000 , cost : 0.000000\n",
            "epoch   91/100 w:1.000 , cost : 0.000000\n",
            "epoch   92/100 w:1.000 , cost : 0.000000\n",
            "epoch   93/100 w:1.000 , cost : 0.000000\n",
            "epoch   94/100 w:1.000 , cost : 0.000000\n",
            "epoch   95/100 w:1.000 , cost : 0.000000\n",
            "epoch   96/100 w:1.000 , cost : 0.000000\n",
            "epoch   97/100 w:1.000 , cost : 0.000000\n",
            "epoch   98/100 w:1.000 , cost : 0.000000\n",
            "epoch   99/100 w:1.000 , cost : 0.000000\n",
            "epoch  100/100 w:1.000 , cost : 0.000000\n",
            "tensor([5.0331], grad_fn=<AddBackward0>)\n"
          ],
          "name": "stdout"
        }
      ]
    },
    {
      "cell_type": "markdown",
      "metadata": {
        "id": "2LiaEDAPEgs-",
        "colab_type": "text"
      },
      "source": [
        "Multivariate Linear Regression"
      ]
    },
    {
      "cell_type": "code",
      "metadata": {
        "id": "KJWrNyhdEkuW",
        "colab_type": "code",
        "colab": {}
      },
      "source": [
        "import torch\n",
        "import torch.optim as optim"
      ],
      "execution_count": 0,
      "outputs": []
    },
    {
      "cell_type": "code",
      "metadata": {
        "id": "Cu402EbHEqG6",
        "colab_type": "code",
        "outputId": "ac523769-bbec-42fb-f141-475129170dd4",
        "colab": {
          "base_uri": "https://localhost:8080/",
          "height": 34
        }
      },
      "source": [
        "torch.manual_seed(1)"
      ],
      "execution_count": 0,
      "outputs": [
        {
          "output_type": "execute_result",
          "data": {
            "text/plain": [
              "<torch._C.Generator at 0x7fdee5a22eb0>"
            ]
          },
          "metadata": {
            "tags": []
          },
          "execution_count": 31
        }
      ]
    },
    {
      "cell_type": "markdown",
      "metadata": {
        "id": "_xRqAPZ-Ety_",
        "colab_type": "text"
      },
      "source": [
        "new data\n"
      ]
    },
    {
      "cell_type": "code",
      "metadata": {
        "id": "J2ckgSeNEuiW",
        "colab_type": "code",
        "colab": {}
      },
      "source": [
        "x1_train = torch.FloatTensor([[73],[93],[89],[96],[73]])\n",
        "x2_train = torch.FloatTensor([[80],[88],[91],[98],[66]])\n",
        "x3_train = torch.FloatTensor([[75],[93],[90],[100],[70]])\n",
        "y_train = torch.FloatTensor([[152],[185],[180],[196],[142]])\n"
      ],
      "execution_count": 0,
      "outputs": []
    },
    {
      "cell_type": "code",
      "metadata": {
        "id": "LVV-hdwnFdmF",
        "colab_type": "code",
        "outputId": "77d9bddf-22aa-4d3d-c3da-47c3a003f825",
        "colab": {
          "base_uri": "https://localhost:8080/",
          "height": 1000
        }
      },
      "source": [
        "w1 = torch.zeros(1,requires_grad=True)\n",
        "w2 = torch.zeros(1,requires_grad=True)\n",
        "w3 = torch.zeros(1,requires_grad=True)\n",
        "b = torch.zeros(1,requires_grad=True)\n",
        "\n",
        "optimizer = optim.SGD([w1,w2,w3,b], lr = 1e-5)\n",
        "nb_epochs = 10000\n",
        "\n",
        "for epoch in range(nb_epochs+1):\n",
        "    hypothesis = x1_train*w1+x2_train*w2+x3_train*w3+b\n",
        "    cost = torch.mean((hypothesis-y_train)**2)\n",
        "\n",
        "    optimizer.zero_grad()\n",
        "    cost.backward()\n",
        "    optimizer.step()\n",
        "\n",
        "    if epoch % 100 == 0:\n",
        "      print('epoch {:4d}/{} w1:{:.3f} w2:{:.3f} w3:{:.3f} b:{:.3f} cost:{:.6f}'.format(\n",
        "          epoch,nb_epochs,w1.item(),w2.item(),w3.item(),b.item(),cost.item()\n",
        "      ))\n",
        "\n",
        "print(w*95+b)"
      ],
      "execution_count": 0,
      "outputs": [
        {
          "output_type": "stream",
          "text": [
            "epoch    0/10000 w1:0.294 w2:0.294 w3:0.297 b:0.003 cost:29661.800781\n",
            "epoch  100/10000 w1:0.674 w2:0.661 w3:0.676 b:0.008 cost:1.563628\n",
            "epoch  200/10000 w1:0.679 w2:0.655 w3:0.677 b:0.008 cost:1.497595\n",
            "epoch  300/10000 w1:0.684 w2:0.649 w3:0.677 b:0.008 cost:1.435044\n",
            "epoch  400/10000 w1:0.689 w2:0.643 w3:0.678 b:0.008 cost:1.375726\n",
            "epoch  500/10000 w1:0.694 w2:0.638 w3:0.678 b:0.009 cost:1.319497\n",
            "epoch  600/10000 w1:0.699 w2:0.633 w3:0.679 b:0.009 cost:1.266215\n",
            "epoch  700/10000 w1:0.704 w2:0.627 w3:0.679 b:0.009 cost:1.215703\n",
            "epoch  800/10000 w1:0.709 w2:0.622 w3:0.679 b:0.009 cost:1.167810\n",
            "epoch  900/10000 w1:0.713 w2:0.617 w3:0.680 b:0.009 cost:1.122429\n",
            "epoch 1000/10000 w1:0.718 w2:0.613 w3:0.680 b:0.009 cost:1.079390\n",
            "epoch 1100/10000 w1:0.722 w2:0.608 w3:0.680 b:0.009 cost:1.038574\n",
            "epoch 1200/10000 w1:0.727 w2:0.603 w3:0.681 b:0.010 cost:0.999900\n",
            "epoch 1300/10000 w1:0.731 w2:0.599 w3:0.681 b:0.010 cost:0.963217\n",
            "epoch 1400/10000 w1:0.735 w2:0.595 w3:0.681 b:0.010 cost:0.928421\n",
            "epoch 1500/10000 w1:0.739 w2:0.591 w3:0.681 b:0.010 cost:0.895448\n",
            "epoch 1600/10000 w1:0.743 w2:0.586 w3:0.682 b:0.010 cost:0.864181\n",
            "epoch 1700/10000 w1:0.746 w2:0.583 w3:0.682 b:0.010 cost:0.834517\n",
            "epoch 1800/10000 w1:0.750 w2:0.579 w3:0.682 b:0.010 cost:0.806368\n",
            "epoch 1900/10000 w1:0.754 w2:0.575 w3:0.682 b:0.010 cost:0.779692\n",
            "epoch 2000/10000 w1:0.757 w2:0.571 w3:0.682 b:0.011 cost:0.754379\n",
            "epoch 2100/10000 w1:0.760 w2:0.568 w3:0.682 b:0.011 cost:0.730372\n",
            "epoch 2200/10000 w1:0.764 w2:0.564 w3:0.682 b:0.011 cost:0.707589\n",
            "epoch 2300/10000 w1:0.767 w2:0.561 w3:0.682 b:0.011 cost:0.685996\n",
            "epoch 2400/10000 w1:0.770 w2:0.558 w3:0.682 b:0.011 cost:0.665490\n",
            "epoch 2500/10000 w1:0.773 w2:0.555 w3:0.682 b:0.011 cost:0.646035\n",
            "epoch 2600/10000 w1:0.776 w2:0.552 w3:0.682 b:0.011 cost:0.627578\n",
            "epoch 2700/10000 w1:0.779 w2:0.549 w3:0.682 b:0.012 cost:0.610050\n",
            "epoch 2800/10000 w1:0.782 w2:0.546 w3:0.682 b:0.012 cost:0.593421\n",
            "epoch 2900/10000 w1:0.785 w2:0.543 w3:0.682 b:0.012 cost:0.577634\n",
            "epoch 3000/10000 w1:0.788 w2:0.541 w3:0.682 b:0.012 cost:0.562652\n",
            "epoch 3100/10000 w1:0.791 w2:0.538 w3:0.682 b:0.012 cost:0.548435\n",
            "epoch 3200/10000 w1:0.793 w2:0.535 w3:0.682 b:0.012 cost:0.534918\n",
            "epoch 3300/10000 w1:0.796 w2:0.533 w3:0.682 b:0.012 cost:0.522085\n",
            "epoch 3400/10000 w1:0.798 w2:0.530 w3:0.682 b:0.012 cost:0.509902\n",
            "epoch 3500/10000 w1:0.801 w2:0.528 w3:0.682 b:0.012 cost:0.498333\n",
            "epoch 3600/10000 w1:0.803 w2:0.526 w3:0.681 b:0.013 cost:0.487336\n",
            "epoch 3700/10000 w1:0.806 w2:0.524 w3:0.681 b:0.013 cost:0.476879\n",
            "epoch 3800/10000 w1:0.808 w2:0.522 w3:0.681 b:0.013 cost:0.466961\n",
            "epoch 3900/10000 w1:0.810 w2:0.519 w3:0.681 b:0.013 cost:0.457530\n",
            "epoch 4000/10000 w1:0.812 w2:0.517 w3:0.681 b:0.013 cost:0.448557\n",
            "epoch 4100/10000 w1:0.814 w2:0.515 w3:0.681 b:0.013 cost:0.440037\n",
            "epoch 4200/10000 w1:0.817 w2:0.514 w3:0.680 b:0.013 cost:0.431924\n",
            "epoch 4300/10000 w1:0.819 w2:0.512 w3:0.680 b:0.013 cost:0.424211\n",
            "epoch 4400/10000 w1:0.821 w2:0.510 w3:0.680 b:0.014 cost:0.416875\n",
            "epoch 4500/10000 w1:0.823 w2:0.508 w3:0.680 b:0.014 cost:0.409904\n",
            "epoch 4600/10000 w1:0.825 w2:0.507 w3:0.679 b:0.014 cost:0.403257\n",
            "epoch 4700/10000 w1:0.826 w2:0.505 w3:0.679 b:0.014 cost:0.396936\n",
            "epoch 4800/10000 w1:0.828 w2:0.503 w3:0.679 b:0.014 cost:0.390922\n",
            "epoch 4900/10000 w1:0.830 w2:0.502 w3:0.679 b:0.014 cost:0.385190\n",
            "epoch 5000/10000 w1:0.832 w2:0.500 w3:0.678 b:0.014 cost:0.379739\n",
            "epoch 5100/10000 w1:0.834 w2:0.499 w3:0.678 b:0.014 cost:0.374529\n",
            "epoch 5200/10000 w1:0.835 w2:0.497 w3:0.678 b:0.014 cost:0.369581\n",
            "epoch 5300/10000 w1:0.837 w2:0.496 w3:0.677 b:0.015 cost:0.364860\n",
            "epoch 5400/10000 w1:0.839 w2:0.495 w3:0.677 b:0.015 cost:0.360358\n",
            "epoch 5500/10000 w1:0.840 w2:0.493 w3:0.677 b:0.015 cost:0.356061\n",
            "epoch 5600/10000 w1:0.842 w2:0.492 w3:0.676 b:0.015 cost:0.351962\n",
            "epoch 5700/10000 w1:0.843 w2:0.491 w3:0.676 b:0.015 cost:0.348053\n",
            "epoch 5800/10000 w1:0.845 w2:0.490 w3:0.676 b:0.015 cost:0.344324\n",
            "epoch 5900/10000 w1:0.846 w2:0.489 w3:0.675 b:0.015 cost:0.340758\n",
            "epoch 6000/10000 w1:0.848 w2:0.488 w3:0.675 b:0.015 cost:0.337360\n",
            "epoch 6100/10000 w1:0.849 w2:0.487 w3:0.675 b:0.016 cost:0.334102\n",
            "epoch 6200/10000 w1:0.851 w2:0.486 w3:0.674 b:0.016 cost:0.330996\n",
            "epoch 6300/10000 w1:0.852 w2:0.485 w3:0.674 b:0.016 cost:0.328025\n",
            "epoch 6400/10000 w1:0.853 w2:0.484 w3:0.674 b:0.016 cost:0.325184\n",
            "epoch 6500/10000 w1:0.854 w2:0.483 w3:0.673 b:0.016 cost:0.322455\n",
            "epoch 6600/10000 w1:0.856 w2:0.482 w3:0.673 b:0.016 cost:0.319853\n",
            "epoch 6700/10000 w1:0.857 w2:0.481 w3:0.673 b:0.016 cost:0.317359\n",
            "epoch 6800/10000 w1:0.858 w2:0.480 w3:0.672 b:0.016 cost:0.314968\n",
            "epoch 6900/10000 w1:0.859 w2:0.479 w3:0.672 b:0.016 cost:0.312671\n",
            "epoch 7000/10000 w1:0.861 w2:0.478 w3:0.671 b:0.016 cost:0.310476\n",
            "epoch 7100/10000 w1:0.862 w2:0.478 w3:0.671 b:0.017 cost:0.308366\n",
            "epoch 7200/10000 w1:0.863 w2:0.477 w3:0.671 b:0.017 cost:0.306344\n",
            "epoch 7300/10000 w1:0.864 w2:0.476 w3:0.670 b:0.017 cost:0.304399\n",
            "epoch 7400/10000 w1:0.865 w2:0.476 w3:0.670 b:0.017 cost:0.302532\n",
            "epoch 7500/10000 w1:0.866 w2:0.475 w3:0.669 b:0.017 cost:0.300727\n",
            "epoch 7600/10000 w1:0.867 w2:0.474 w3:0.669 b:0.017 cost:0.299002\n",
            "epoch 7700/10000 w1:0.868 w2:0.474 w3:0.668 b:0.017 cost:0.297341\n",
            "epoch 7800/10000 w1:0.869 w2:0.473 w3:0.668 b:0.017 cost:0.295739\n",
            "epoch 7900/10000 w1:0.870 w2:0.472 w3:0.668 b:0.017 cost:0.294203\n",
            "epoch 8000/10000 w1:0.871 w2:0.472 w3:0.667 b:0.018 cost:0.292709\n",
            "epoch 8100/10000 w1:0.872 w2:0.471 w3:0.667 b:0.018 cost:0.291277\n",
            "epoch 8200/10000 w1:0.873 w2:0.471 w3:0.666 b:0.018 cost:0.289892\n",
            "epoch 8300/10000 w1:0.874 w2:0.470 w3:0.666 b:0.018 cost:0.288552\n",
            "epoch 8400/10000 w1:0.875 w2:0.470 w3:0.665 b:0.018 cost:0.287265\n",
            "epoch 8500/10000 w1:0.876 w2:0.469 w3:0.665 b:0.018 cost:0.286019\n",
            "epoch 8600/10000 w1:0.877 w2:0.469 w3:0.665 b:0.018 cost:0.284805\n",
            "epoch 8700/10000 w1:0.878 w2:0.468 w3:0.664 b:0.018 cost:0.283641\n",
            "epoch 8800/10000 w1:0.879 w2:0.468 w3:0.664 b:0.018 cost:0.282506\n",
            "epoch 8900/10000 w1:0.880 w2:0.468 w3:0.663 b:0.018 cost:0.281410\n",
            "epoch 9000/10000 w1:0.880 w2:0.467 w3:0.663 b:0.019 cost:0.280349\n",
            "epoch 9100/10000 w1:0.881 w2:0.467 w3:0.662 b:0.019 cost:0.279315\n",
            "epoch 9200/10000 w1:0.882 w2:0.467 w3:0.662 b:0.019 cost:0.278316\n",
            "epoch 9300/10000 w1:0.883 w2:0.466 w3:0.661 b:0.019 cost:0.277345\n",
            "epoch 9400/10000 w1:0.884 w2:0.466 w3:0.661 b:0.019 cost:0.276391\n",
            "epoch 9500/10000 w1:0.884 w2:0.466 w3:0.661 b:0.019 cost:0.275476\n",
            "epoch 9600/10000 w1:0.885 w2:0.465 w3:0.660 b:0.019 cost:0.274578\n",
            "epoch 9700/10000 w1:0.886 w2:0.465 w3:0.660 b:0.019 cost:0.273701\n",
            "epoch 9800/10000 w1:0.887 w2:0.465 w3:0.659 b:0.019 cost:0.272862\n",
            "epoch 9900/10000 w1:0.887 w2:0.464 w3:0.659 b:0.019 cost:0.272029\n",
            "epoch 10000/10000 w1:0.888 w2:0.464 w3:0.658 b:0.020 cost:0.271220\n",
            "tensor([95.0195], grad_fn=<AddBackward0>)\n"
          ],
          "name": "stdout"
        }
      ]
    },
    {
      "cell_type": "markdown",
      "metadata": {
        "id": "lIrNDoXTGjHg",
        "colab_type": "text"
      },
      "source": [
        "result\n"
      ]
    }
  ]
}