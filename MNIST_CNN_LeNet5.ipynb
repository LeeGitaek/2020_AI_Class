{
  "nbformat": 4,
  "nbformat_minor": 0,
  "metadata": {
    "colab": {
      "name": "MNIST_CNN_LeNet5.ipynb",
      "provenance": [],
      "authorship_tag": "ABX9TyPOYJ5hBthSYGiDpYDz+5I4",
      "include_colab_link": true
    },
    "kernelspec": {
      "name": "python3",
      "display_name": "Python 3"
    },
    "accelerator": "GPU"
  },
  "cells": [
    {
      "cell_type": "markdown",
      "metadata": {
        "id": "view-in-github",
        "colab_type": "text"
      },
      "source": [
        "<a href=\"https://colab.research.google.com/github/LeeGitaek/2020_AI_Class/blob/master/MNIST_CNN_LeNet5.ipynb\" target=\"_parent\"><img src=\"https://colab.research.google.com/assets/colab-badge.svg\" alt=\"Open In Colab\"/></a>"
      ]
    },
    {
      "cell_type": "code",
      "metadata": {
        "id": "V71tJsEAznge",
        "colab_type": "code",
        "colab": {}
      },
      "source": [
        "import torch\n",
        "import torchvision.datasets as dsets\n",
        "import torchvision.transforms as transforms\n",
        "import torch.nn.init"
      ],
      "execution_count": 46,
      "outputs": []
    },
    {
      "cell_type": "code",
      "metadata": {
        "id": "afce1he40DJ7",
        "colab_type": "code",
        "colab": {}
      },
      "source": [
        "device = 'cuda' if torch.cuda.is_available() else 'cpu'\n",
        "\n",
        "torch.manual_seed(777)\n",
        "if device == 'cuda':\n",
        "    torch.cuda.manual_seed_all(777)"
      ],
      "execution_count": 47,
      "outputs": []
    },
    {
      "cell_type": "code",
      "metadata": {
        "id": "v8XvUbkc0TY6",
        "colab_type": "code",
        "colab": {}
      },
      "source": [
        "#parameters\n",
        "learning_rate = 0.9\n",
        "training_epochs = 50\n",
        "batch_size = 256 "
      ],
      "execution_count": 48,
      "outputs": []
    },
    {
      "cell_type": "code",
      "metadata": {
        "id": "8gOdw-c70dlW",
        "colab_type": "code",
        "colab": {}
      },
      "source": [
        "#MNIST 영상이 28 * 28로 가공되어 있어, Original 입력 사이즈 32*32로 맞추기 \n",
        "transforms = transforms.Compose([transforms.Resize((32,32)),\n",
        "                                 transforms.ToTensor()])\n",
        "\n",
        "\n",
        "mnist_train = dsets.MNIST(root = 'MNIST_data/',\n",
        "                          train = True,\n",
        "                          transform = transforms,\n",
        "                          download=True)\n",
        "\n",
        "mnist_test = dsets.MNIST(root = 'MNIST_data/',\n",
        "                         train = False,\n",
        "                         transform = transforms,\n",
        "                         download=True)"
      ],
      "execution_count": 49,
      "outputs": []
    },
    {
      "cell_type": "code",
      "metadata": {
        "id": "4Lu8D7hV01aF",
        "colab_type": "code",
        "colab": {}
      },
      "source": [
        "train_loader = torch.utils.data.DataLoader(dataset=mnist_train,\n",
        "                                           batch_size=batch_size,\n",
        "                                           shuffle=True,\n",
        "                                           drop_last = True)\n",
        "\n",
        "test_loader = torch.utils.data.DataLoader(dataset=mnist_test,\n",
        "                                          batch_size=batch_size,\n",
        "                                          shuffle=True,\n",
        "                                          drop_last = True)"
      ],
      "execution_count": 50,
      "outputs": []
    },
    {
      "cell_type": "code",
      "metadata": {
        "id": "E2O8n4IA16od",
        "colab_type": "code",
        "colab": {}
      },
      "source": [
        "class LeNet5(torch.nn.Module):\n",
        "    def __init__(self):\n",
        "      super(LeNet5,self).__init__()\n",
        "\n",
        "      \n",
        "      self.c1 = torch.nn.Conv2d(1,6,kernel_size=5,stride=1,padding=0)\n",
        "      self.x1 = torch.nn.Tanh()\n",
        "      self.s2 = torch.nn.AvgPool2d(kernel_size=2,stride=2)\n",
        "\n",
        "      self.c3 = torch.nn.Conv2d(6,16,kernel_size=5,stride=1,padding=0)\n",
        "      self.x3 = torch.nn.Tanh()\n",
        "      self.s4 = torch.nn.AvgPool2d(kernel_size=2,stride=2)\n",
        "\n",
        "      #self.fl = torch.nn.Faltten()\n",
        "\n",
        "      self.f5 = torch.nn.Linear(16*5*5,120,bias=True)\n",
        "      self.x5 = torch.nn.Tanh()\n",
        "\n",
        "      self.f6 = torch.nn.Linear(120,84,bias=True)\n",
        "      self.x6 = torch.nn.Tanh()\n",
        "\n",
        "      self.output = torch.nn.Linear(84,10,bias=True)\n",
        "\n",
        "    def forward(self,x):\n",
        "      out = self.c1(x)\n",
        "      out = self.x1(out)\n",
        "      out = self.s2(out)\n",
        "      out = self.c3(out)\n",
        "      out = self.x3(out)\n",
        "      out = self.s4(out)\n",
        "      out = out.view(out.size(0),-1)\n",
        "      out = self.f5(out)\n",
        "      out = self.x5(out)\n",
        "      out = self.f6(out)\n",
        "      out = self.x6(out)\n",
        "      out = self.output(out)\n",
        "      return out"
      ],
      "execution_count": 51,
      "outputs": []
    },
    {
      "cell_type": "code",
      "metadata": {
        "id": "0oJL92io4LG5",
        "colab_type": "code",
        "colab": {}
      },
      "source": [
        "model = LeNet5().to(device)\n"
      ],
      "execution_count": 52,
      "outputs": []
    },
    {
      "cell_type": "code",
      "metadata": {
        "id": "MwuwzH-W-pzg",
        "colab_type": "code",
        "colab": {}
      },
      "source": [
        "criterion = torch.nn.CrossEntropyLoss().to(device)\n",
        "optimizer = torch.optim.SGD(model.parameters(),lr=learning_rate)"
      ],
      "execution_count": 53,
      "outputs": []
    },
    {
      "cell_type": "code",
      "metadata": {
        "id": "415h59wH-2Ag",
        "colab_type": "code",
        "colab": {
          "base_uri": "https://localhost:8080/",
          "height": 901
        },
        "outputId": "2e4c06c7-57f2-4154-e46d-600b39e012d1"
      },
      "source": [
        "total_batch = len(train_loader)\n",
        "print('Learning started. It takes sometime')\n",
        "for epoch in range(training_epochs):\n",
        "    avg_cost = 0\n",
        "\n",
        "    for X,Y in train_loader:\n",
        "        X = X.to(device)\n",
        "        Y = Y.to(device)\n",
        "\n",
        "        optimizer.zero_grad()\n",
        "        hypothesis = model(X)\n",
        "        cost = criterion(hypothesis,Y)\n",
        "        cost.backward()\n",
        "        optimizer.step()\n",
        "\n",
        "        avg_cost += cost/total_batch\n",
        "\n",
        "    print('[Epoch : {:>4}] cost = {:>.9}'.format(epoch+1,avg_cost))\n",
        "print('Learning Finished!')"
      ],
      "execution_count": 54,
      "outputs": [
        {
          "output_type": "stream",
          "text": [
            "Learning started. It takes sometime\n",
            "[Epoch :    1] cost = 0.330930531\n",
            "[Epoch :    2] cost = 0.0942099616\n",
            "[Epoch :    3] cost = 0.061307881\n",
            "[Epoch :    4] cost = 0.0468059666\n",
            "[Epoch :    5] cost = 0.0385779291\n",
            "[Epoch :    6] cost = 0.028185457\n",
            "[Epoch :    7] cost = 0.0236899052\n",
            "[Epoch :    8] cost = 0.0183655974\n",
            "[Epoch :    9] cost = 0.0144372219\n",
            "[Epoch :   10] cost = 0.0116448803\n",
            "[Epoch :   11] cost = 0.00952292792\n",
            "[Epoch :   12] cost = 0.00803068094\n",
            "[Epoch :   13] cost = 0.00619505579\n",
            "[Epoch :   14] cost = 0.00483162375\n",
            "[Epoch :   15] cost = 0.00395467179\n",
            "[Epoch :   16] cost = 0.00310695521\n",
            "[Epoch :   17] cost = 0.00304762973\n",
            "[Epoch :   18] cost = 0.00210876367\n",
            "[Epoch :   19] cost = 0.00163724937\n",
            "[Epoch :   20] cost = 0.00139037066\n",
            "[Epoch :   21] cost = 0.00118700753\n",
            "[Epoch :   22] cost = 0.000951472612\n",
            "[Epoch :   23] cost = 0.000862216461\n",
            "[Epoch :   24] cost = 0.000813177088\n",
            "[Epoch :   25] cost = 0.000683657767\n",
            "[Epoch :   26] cost = 0.000621284882\n",
            "[Epoch :   27] cost = 0.00056041358\n",
            "[Epoch :   28] cost = 0.000512977189\n",
            "[Epoch :   29] cost = 0.000471132254\n",
            "[Epoch :   30] cost = 0.000492578081\n",
            "[Epoch :   31] cost = 0.000431931723\n",
            "[Epoch :   32] cost = 0.000397554861\n",
            "[Epoch :   33] cost = 0.000376552547\n",
            "[Epoch :   34] cost = 0.000348502188\n",
            "[Epoch :   35] cost = 0.000328278373\n",
            "[Epoch :   36] cost = 0.000317716593\n",
            "[Epoch :   37] cost = 0.000298670115\n",
            "[Epoch :   38] cost = 0.000290408701\n",
            "[Epoch :   39] cost = 0.000276673352\n",
            "[Epoch :   40] cost = 0.000259541353\n",
            "[Epoch :   41] cost = 0.000251678663\n",
            "[Epoch :   42] cost = 0.000242296548\n",
            "[Epoch :   43] cost = 0.000233068582\n",
            "[Epoch :   44] cost = 0.000225818134\n",
            "[Epoch :   45] cost = 0.000216015149\n",
            "[Epoch :   46] cost = 0.000209613936\n",
            "[Epoch :   47] cost = 0.000202918702\n",
            "[Epoch :   48] cost = 0.000196698151\n",
            "[Epoch :   49] cost = 0.000190052539\n",
            "[Epoch :   50] cost = 0.000184860604\n",
            "Learning Finished!\n"
          ],
          "name": "stdout"
        }
      ]
    },
    {
      "cell_type": "code",
      "metadata": {
        "id": "ryNu3D7aBVeo",
        "colab_type": "code",
        "colab": {
          "base_uri": "https://localhost:8080/",
          "height": 34
        },
        "outputId": "6d0d6b97-59cf-4987-bd03-8200f865a2d0"
      },
      "source": [
        "accuracy = 0\n",
        "total_batch = len(test_loader)\n",
        "\n",
        "with torch.no_grad():\n",
        "    model.eval()\n",
        "\n",
        "    for X,Y in test_loader:\n",
        "      X = X.to(device)\n",
        "      Y = Y.to(device)\n",
        "\n",
        "      prediction = model(X)\n",
        "      correct_prediction = torch.argmax(prediction,1) == Y\n",
        "      accuracy += correct_prediction.float().mean()\n",
        "print('Accuracy:',accuracy.item()/total_batch)"
      ],
      "execution_count": 55,
      "outputs": [
        {
          "output_type": "stream",
          "text": [
            "Accuracy: 0.9903846153846154\n"
          ],
          "name": "stdout"
        }
      ]
    },
    {
      "cell_type": "code",
      "metadata": {
        "id": "JMDIV2q8B0BP",
        "colab_type": "code",
        "colab": {}
      },
      "source": [
        "#0.99"
      ],
      "execution_count": null,
      "outputs": []
    }
  ]
}