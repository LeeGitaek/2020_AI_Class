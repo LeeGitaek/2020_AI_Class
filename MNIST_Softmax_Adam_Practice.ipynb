{
  "nbformat": 4,
  "nbformat_minor": 0,
  "metadata": {
    "colab": {
      "name": "mnist_softmax_adam_practice.ipynb",
      "provenance": [],
      "collapsed_sections": [],
      "authorship_tag": "ABX9TyOtE0hxJT2urB6p0dt6a+ur",
      "include_colab_link": true
    },
    "kernelspec": {
      "name": "python3",
      "display_name": "Python 3"
    },
    "accelerator": "GPU"
  },
  "cells": [
    {
      "cell_type": "markdown",
      "metadata": {
        "id": "view-in-github",
        "colab_type": "text"
      },
      "source": [
        "<a href=\"https://colab.research.google.com/github/LeeGitaek/2020_AI_Class/blob/master/MNIST_Softmax_Adam_Practice.ipynb\" target=\"_parent\"><img src=\"https://colab.research.google.com/assets/colab-badge.svg\" alt=\"Open In Colab\"/></a>"
      ]
    },
    {
      "cell_type": "code",
      "metadata": {
        "id": "7XkF9znHcWQN",
        "colab_type": "code",
        "colab": {}
      },
      "source": [
        "import torch\n",
        "import torchvision.datasets as data \n",
        "import torchvision.transforms as transforms\n",
        "import random "
      ],
      "execution_count": 0,
      "outputs": []
    },
    {
      "cell_type": "code",
      "metadata": {
        "id": "DGzSYtBWcik5",
        "colab_type": "code",
        "colab": {}
      },
      "source": [
        "device = 'cuda' if torch.cuda.is_available() else 'cpu'\n",
        "random.seed(777)\n",
        "#난수생성 규칙 설정 seed\n",
        "torch.manual_seed(777)\n",
        "if device == 'cuda':\n",
        "    torch.cuda.manual_seed_all(777)"
      ],
      "execution_count": 0,
      "outputs": []
    },
    {
      "cell_type": "code",
      "metadata": {
        "id": "tD-o1R8edAYa",
        "colab_type": "code",
        "colab": {}
      },
      "source": [
        "#학습 파라미터 설정\n",
        "# tpu = 구글에서 만든 gpu\n",
        "\n",
        "learning_rate = 0.001\n",
        "training_epochs = 15\n",
        "batch_size = 100\n",
        "#모의 문제 해결 수 "
      ],
      "execution_count": 0,
      "outputs": []
    },
    {
      "cell_type": "code",
      "metadata": {
        "id": "Ql8pBVZEdW3E",
        "colab_type": "code",
        "colab": {}
      },
      "source": [
        "mnist_train = data.MNIST(root = 'MNIST_data/',\n",
        "                         train=True,\n",
        "                         transform = transforms.ToTensor(),\n",
        "                         download = True)\n",
        "# root 값은 어디에 저장할 것인가 \n",
        "\n",
        "\n",
        "mnist_test = data.MNIST(root='MNIST_data/',\n",
        "                        train=False,\n",
        "                        transform = transforms.ToTensor(),\n",
        "                        download=True)"
      ],
      "execution_count": 0,
      "outputs": []
    },
    {
      "cell_type": "code",
      "metadata": {
        "id": "9MlUillheUQE",
        "colab_type": "code",
        "colab": {}
      },
      "source": [
        "data_loader = torch.utils.data.DataLoader(dataset = mnist_train,\n",
        "                                          batch_size = batch_size,\n",
        "                                          shuffle=True,\n",
        "                                          drop_last = True)\n",
        "#shuffle = 데이터 섞어줌\n",
        "#"
      ],
      "execution_count": 0,
      "outputs": []
    },
    {
      "cell_type": "code",
      "metadata": {
        "id": "DeKC5kp5fboz",
        "colab_type": "code",
        "colab": {}
      },
      "source": [
        "linear = torch.nn.Linear(784,10,bias=True)\n",
        "#출력 10개의 클래스 "
      ],
      "execution_count": 0,
      "outputs": []
    },
    {
      "cell_type": "code",
      "metadata": {
        "id": "45e5bP1rflsV",
        "colab_type": "code",
        "colab": {
          "base_uri": "https://localhost:8080/",
          "height": 170
        },
        "outputId": "ea3916e1-3573-4b51-b97a-fdc6d2fa17db"
      },
      "source": [
        "torch.nn.init.normal_(linear.weight)"
      ],
      "execution_count": 23,
      "outputs": [
        {
          "output_type": "execute_result",
          "data": {
            "text/plain": [
              "Parameter containing:\n",
              "tensor([[-0.1953, -0.4404,  0.0139,  ...,  0.7510,  1.5190,  0.9637],\n",
              "        [ 0.4146, -1.0660, -0.9969,  ..., -0.3259, -0.2695, -1.3316],\n",
              "        [ 0.2600, -1.1821,  0.0065,  ...,  1.0648, -1.2251,  0.9841],\n",
              "        ...,\n",
              "        [ 0.0279, -1.7242, -1.1723,  ...,  1.3651, -0.0689, -0.7931],\n",
              "        [ 0.0952,  0.1939,  0.1636,  ..., -1.0489,  0.6224, -1.7181],\n",
              "        [ 2.6504,  0.6297, -1.6571,  ..., -0.0781, -1.1398, -0.8711]],\n",
              "       requires_grad=True)"
            ]
          },
          "metadata": {
            "tags": []
          },
          "execution_count": 23
        }
      ]
    },
    {
      "cell_type": "code",
      "metadata": {
        "id": "eP0MQ1aFgCum",
        "colab_type": "code",
        "colab": {}
      },
      "source": [
        "model = torch.nn.Sequential(linear).to(device)"
      ],
      "execution_count": 0,
      "outputs": []
    },
    {
      "cell_type": "code",
      "metadata": {
        "id": "ccSI0IoygPAQ",
        "colab_type": "code",
        "colab": {}
      },
      "source": [
        "loss = torch.nn.CrossEntropyLoss().to(device)\n",
        "optimizer = torch.optim.Adam(model.parameters(),lr=learning_rate) #0.49"
      ],
      "execution_count": 0,
      "outputs": []
    },
    {
      "cell_type": "code",
      "metadata": {
        "id": "3wi_QG5Dgjhg",
        "colab_type": "code",
        "colab": {
          "base_uri": "https://localhost:8080/",
          "height": 289
        },
        "outputId": "7c023c53-b7f0-4c6a-ff1e-b711f33b9710"
      },
      "source": [
        "total_batch = len(data_loader)\n",
        "for epoch in range(training_epochs):\n",
        "    avg_cost = 0\n",
        "\n",
        "    for X,Y in data_loader:\n",
        "      # (100,1,28,28) 크기의 텐서를 (100,784) 크기의 텐서로 변형 \n",
        "       X = X.view(-1,28*28).to(device) #reshape과 유사\n",
        "       # one - hot 인코딩 되어있지 않음 \n",
        "       Y = Y.to(device)\n",
        "\n",
        "       # 그레디언트 초기화\n",
        "       optimizer.zero_grad()\n",
        "       hypothesis = model(X)\n",
        "\n",
        "       cost = loss(hypothesis,Y) \n",
        "       cost.backward()\n",
        "       optimizer.step()\n",
        "\n",
        "       avg_cost += cost/total_batch\n",
        "    print('Epoch :','%04d' % (epoch+1),'cost=','{:.9f}'.format(avg_cost))\n",
        "print('Learning finished..!')      "
      ],
      "execution_count": 26,
      "outputs": [
        {
          "output_type": "stream",
          "text": [
            "Epoch : 0001 cost= 5.707432747\n",
            "Epoch : 0002 cost= 1.566787481\n",
            "Epoch : 0003 cost= 1.038582444\n",
            "Epoch : 0004 cost= 0.828922212\n",
            "Epoch : 0005 cost= 0.710936129\n",
            "Epoch : 0006 cost= 0.633364439\n",
            "Epoch : 0007 cost= 0.578106642\n",
            "Epoch : 0008 cost= 0.535550117\n",
            "Epoch : 0009 cost= 0.502309144\n",
            "Epoch : 0010 cost= 0.476203084\n",
            "Epoch : 0011 cost= 0.454187781\n",
            "Epoch : 0012 cost= 0.435488403\n",
            "Epoch : 0013 cost= 0.420344979\n",
            "Epoch : 0014 cost= 0.406599671\n",
            "Epoch : 0015 cost= 0.394169509\n",
            "Learning finished..!\n"
          ],
          "name": "stdout"
        }
      ]
    },
    {
      "cell_type": "code",
      "metadata": {
        "id": "shkyWSL2iwtr",
        "colab_type": "code",
        "colab": {
          "base_uri": "https://localhost:8080/",
          "height": 122
        },
        "outputId": "5de9483b-65af-4852-9b4a-de90c277c9de"
      },
      "source": [
        "with torch.no_grad():\n",
        "    # float() : GPU => CPU 로 데이터 내리기\n",
        "    X_test = mnist_test.test_data.view(-1,28*28).float().to(device)\n",
        "    Y_test = mnist_test.test_labels.to(device)\n",
        "\n",
        "    prediction = model(X_test)\n",
        "    correct_prediction = torch.argmax(prediction , 1 ) == Y_test\n",
        "    accuracy = correct_prediction.float().mean()\n",
        "    print('Accuracy:',accuracy.item())\n",
        "    "
      ],
      "execution_count": 27,
      "outputs": [
        {
          "output_type": "stream",
          "text": [
            "Accuracy: 0.8955999612808228\n"
          ],
          "name": "stdout"
        },
        {
          "output_type": "stream",
          "text": [
            "/usr/local/lib/python3.6/dist-packages/torchvision/datasets/mnist.py:60: UserWarning: test_data has been renamed data\n",
            "  warnings.warn(\"test_data has been renamed data\")\n",
            "/usr/local/lib/python3.6/dist-packages/torchvision/datasets/mnist.py:50: UserWarning: test_labels has been renamed targets\n",
            "  warnings.warn(\"test_labels has been renamed targets\")\n"
          ],
          "name": "stderr"
        }
      ]
    },
    {
      "cell_type": "code",
      "metadata": {
        "id": "CotyaqfLjXYR",
        "colab_type": "code",
        "colab": {
          "base_uri": "https://localhost:8080/",
          "height": 139
        },
        "outputId": "6b8a3264-ab4c-446a-edf2-8b7df0873c80"
      },
      "source": [
        "r = random.randint(0,len(mnist_test)-1)\n",
        "X_single_data = mnist_test.test_data[r:r+1].view(-1,28*28).float().to(device)\n",
        "Y_single_data = mnist_test.test_labels[r:r+1].to(device)\n",
        "\n",
        "print('Label:',Y_single_data.item())\n",
        "single_prediction = model(X_single_data)\n",
        "print('Prediction :',torch.argmax(single_prediction,1).item())\n"
      ],
      "execution_count": 28,
      "outputs": [
        {
          "output_type": "stream",
          "text": [
            "Label: 8\n",
            "Prediction : 3\n"
          ],
          "name": "stdout"
        },
        {
          "output_type": "stream",
          "text": [
            "/usr/local/lib/python3.6/dist-packages/torchvision/datasets/mnist.py:60: UserWarning: test_data has been renamed data\n",
            "  warnings.warn(\"test_data has been renamed data\")\n",
            "/usr/local/lib/python3.6/dist-packages/torchvision/datasets/mnist.py:50: UserWarning: test_labels has been renamed targets\n",
            "  warnings.warn(\"test_labels has been renamed targets\")\n"
          ],
          "name": "stderr"
        }
      ]
    },
    {
      "cell_type": "code",
      "metadata": {
        "id": "g3gY_E7tkF-P",
        "colab_type": "code",
        "colab": {
          "base_uri": "https://localhost:8080/",
          "height": 282
        },
        "outputId": "b47d00fd-a3d0-4dbd-abed-37d992533a43"
      },
      "source": [
        "import matplotlib.pyplot as plt\n",
        "plt.imshow(X_single_data.reshape(28,28).cpu())\n",
        "print(Y_single_data)"
      ],
      "execution_count": 29,
      "outputs": [
        {
          "output_type": "stream",
          "text": [
            "tensor([8], device='cuda:0')\n"
          ],
          "name": "stdout"
        },
        {
          "output_type": "display_data",
          "data": {
            "image/png": "[encoded data removed]",
            "text/plain": [
              "<Figure size 432x288 with 1 Axes>"
            ]
          },
          "metadata": {
            "tags": [],
            "needs_background": "light"
          }
        }
      ]
    }
  ]
}