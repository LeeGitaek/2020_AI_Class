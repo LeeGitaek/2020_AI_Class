{
  "nbformat": 4,
  "nbformat_minor": 0,
  "metadata": {
    "colab": {
      "name": "ai_class3.ipynb",
      "provenance": [],
      "collapsed_sections": [],
      "authorship_tag": "ABX9TyOrjOScXYMGT8ajesRTcnhd",
      "include_colab_link": true
    },
    "kernelspec": {
      "name": "python3",
      "display_name": "Python 3"
    }
  },
  "cells": [
    {
      "cell_type": "markdown",
      "metadata": {
        "id": "view-in-github",
        "colab_type": "text"
      },
      "source": [
        "<a href=\"https://colab.research.google.com/github/LeeGitaek/2020_AI_Class/blob/master/softmax_classification.ipynb\" target=\"_parent\"><img src=\"https://colab.research.google.com/assets/colab-badge.svg\" alt=\"Open In Colab\"/></a>"
      ]
    },
    {
      "cell_type": "markdown",
      "metadata": {
        "id": "S5vWqV69XjhK",
        "colab_type": "text"
      },
      "source": [
        "Softmax classification\n",
        "\n",
        "클래스가 3개 이상인 경우\n",
        "\n",
        "데이터 로드\n"
      ]
    },
    {
      "cell_type": "code",
      "metadata": {
        "id": "fMASAluHXgfb",
        "colab_type": "code",
        "colab": {
          "base_uri": "https://localhost:8080/",
          "height": 119
        },
        "outputId": "064b545d-bb08-448d-f359-3392b3c1b6d8"
      },
      "source": [
        "import torch\n",
        "import torch.optim as optim\n",
        "# For reproducibility\n",
        "torch.manual_seed(1)\n",
        "\n",
        "x_train = [[1, 2, 1, 1],\n",
        "           [2, 1, 3, 2],\n",
        "           [3, 1, 3, 4],\n",
        "           [4, 1, 5, 5],\n",
        "           [1, 7, 5, 5],\n",
        "           [1, 2, 5, 6],\n",
        "           [1, 6, 6, 6],\n",
        "           [1, 7, 7, 7]]\n",
        "\n",
        "y_train = [2,2,2,1,1,1,0,0]\n",
        "x_train = torch.FloatTensor(x_train)\n",
        "y_train = torch.LongTensor(y_train)\n",
        "\n",
        "print(x_train[:5])\n",
        "print(y_train[:5])\n"
      ],
      "execution_count": 18,
      "outputs": [
        {
          "output_type": "stream",
          "text": [
            "tensor([[1., 2., 1., 1.],\n",
            "        [2., 1., 3., 2.],\n",
            "        [3., 1., 3., 4.],\n",
            "        [4., 1., 5., 5.],\n",
            "        [1., 7., 5., 5.]])\n",
            "tensor([2, 2, 2, 1, 1])\n"
          ],
          "name": "stdout"
        }
      ]
    },
    {
      "cell_type": "code",
      "metadata": {
        "id": "nW1VDvANgj9j",
        "colab_type": "code",
        "colab": {
          "base_uri": "https://localhost:8080/",
          "height": 306
        },
        "outputId": "8a0641b5-ab5c-4f4d-8ddb-7f33e6c4bdd5"
      },
      "source": [
        "print(y_train)\n",
        "print(y_train.unsqueeze(1))\n",
        "\n",
        "nb_class = 3\n",
        "nb_data = len(y_train)\n",
        "y_one_hot = torch.zeros(nb_data, nb_class)\n",
        "y_one_hot.scatter_(1, y_train.unsqueeze(1), 1)\n",
        "\n",
        "print(y_one_hot)\n"
      ],
      "execution_count": 19,
      "outputs": [
        {
          "output_type": "stream",
          "text": [
            "tensor([2, 2, 2, 1, 1, 1, 0, 0])\n",
            "tensor([[2],\n",
            "        [2],\n",
            "        [2],\n",
            "        [1],\n",
            "        [1],\n",
            "        [1],\n",
            "        [0],\n",
            "        [0]])\n",
            "tensor([[0., 0., 1.],\n",
            "        [0., 0., 1.],\n",
            "        [0., 0., 1.],\n",
            "        [0., 1., 0.],\n",
            "        [0., 1., 0.],\n",
            "        [0., 1., 0.],\n",
            "        [1., 0., 0.],\n",
            "        [1., 0., 0.]])\n"
          ],
          "name": "stdout"
        }
      ]
    },
    {
      "cell_type": "markdown",
      "metadata": {
        "id": "UEAMKuvWYejz",
        "colab_type": "text"
      },
      "source": [
        "모델 학습\n"
      ]
    },
    {
      "cell_type": "code",
      "metadata": {
        "id": "h803xw1-YgQe",
        "colab_type": "code",
        "colab": {
          "base_uri": "https://localhost:8080/",
          "height": 204
        },
        "outputId": "ea961c26-1e35-4b01-e7b5-d2f942653e52"
      },
      "source": [
        "import torch.nn.functional as F # for softmax\n",
        "\n",
        "nb_class = 3\n",
        "nb_data = len(y_train)\n",
        "\n",
        "w = torch.zeros((4, nb_class),requires_grad=True)\n",
        "b = torch.zeros(1,requires_grad=True)\n",
        "\n",
        "optimizer = optim.SGD([w,b], lr = 0.01)\n",
        "nb_epochs = 1000\n",
        "for epoch in range(nb_epochs+1):\n",
        "\n",
        "    hypothesis = F.softmax(x_train.matmul(w)+b, dim=1)\n",
        "\n",
        "    y_one_hot = torch.zeros(nb_data, nb_class)\n",
        "    y_one_hot.scatter_(1, y_train.unsqueeze(1), 1)\n",
        "    cost = (y_one_hot * -torch.log(F.softmax(hypothesis, dim=1))).sum(dim=1).mean()\n",
        "    \n",
        "    #cost 표현법 2번 예시 (위 1번 ) \n",
        "    # cross_ entropy 를 사용하면 scatter 함수를 이용한 one_hot_encoding을 안해도됨.\n",
        "    # cost = F.cross_entropy((x_train.matmul(w)+b),y_train)\n",
        "    optimizer.zero_grad()\n",
        "    cost.backward()\n",
        "    optimizer.step()\n",
        "\n",
        "    if epoch % 100 == 0:\n",
        "        print('epoch {:4d}/{} cost : {:.6f}'.format(\n",
        "            epoch, nb_epochs,cost.item()\n",
        "        ))\n",
        "    \n"
      ],
      "execution_count": 20,
      "outputs": [
        {
          "output_type": "stream",
          "text": [
            "epoch    0/1000 cost : 1.098612\n",
            "epoch  100/1000 cost : 1.036919\n",
            "epoch  200/1000 cost : 1.010905\n",
            "epoch  300/1000 cost : 0.991541\n",
            "epoch  400/1000 cost : 0.974942\n",
            "epoch  500/1000 cost : 0.959928\n",
            "epoch  600/1000 cost : 0.946149\n",
            "epoch  700/1000 cost : 0.933492\n",
            "epoch  800/1000 cost : 0.921898\n",
            "epoch  900/1000 cost : 0.911302\n",
            "epoch 1000/1000 cost : 0.901625\n"
          ],
          "name": "stdout"
        }
      ]
    },
    {
      "cell_type": "markdown",
      "metadata": {
        "id": "6COGIaFfc_EK",
        "colab_type": "text"
      },
      "source": [
        "데이터 평가 \n",
        "\n"
      ]
    },
    {
      "cell_type": "code",
      "metadata": {
        "id": "sUhdKM9Sc-eP",
        "colab_type": "code",
        "colab": {
          "base_uri": "https://localhost:8080/",
          "height": 221
        },
        "outputId": "c7888419-a779-4f4f-b0a8-1fbe435e9f2c"
      },
      "source": [
        "#학습된 w,b 를 통한 클래스 예측 \n",
        "hypothesis = F.softmax(x_train.matmul(w) + b, dim=1) # or .mm or @\n",
        "predict = torch.argmax(hypothesis, dim=1)\n",
        "\n",
        "\n",
        "print(hypothesis)\n",
        "print(predict)\n",
        "print(y_train)\n",
        "\n",
        "\n",
        "# 정확도 계산 \n",
        "correct_prediction = predict.float() == y_train\n",
        "print(correct_prediction)\n",
        "accuracy = correct_prediction.sum().item() / len(correct_prediction)\n",
        "print('The model has an accuracy of {:2.2f}% for the training set.'.format(accuracy * 100))\n"
      ],
      "execution_count": 26,
      "outputs": [
        {
          "output_type": "stream",
          "text": [
            "tensor([[0.3633, 0.1321, 0.5046],\n",
            "        [0.1075, 0.3747, 0.5178],\n",
            "        [0.0338, 0.4811, 0.4851],\n",
            "        [0.0120, 0.5703, 0.4177],\n",
            "        [0.9002, 0.0161, 0.0838],\n",
            "        [0.1476, 0.7789, 0.0735],\n",
            "        [0.8375, 0.0747, 0.0878],\n",
            "        [0.8986, 0.0490, 0.0524]], grad_fn=<SoftmaxBackward>)\n",
            "tensor([2, 2, 2, 1, 0, 1, 0, 0])\n",
            "tensor([2, 2, 2, 1, 1, 1, 0, 0])\n",
            "tensor([ True,  True,  True,  True, False,  True,  True,  True])\n",
            "The model has an accuracy of 87.50% for the training set.\n"
          ],
          "name": "stdout"
        }
      ]
    }
  ]
}